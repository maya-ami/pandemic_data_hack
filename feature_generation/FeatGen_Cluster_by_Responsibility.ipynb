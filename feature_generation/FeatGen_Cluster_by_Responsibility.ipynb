{
 "cells": [
  {
   "cell_type": "code",
   "execution_count": 1,
   "metadata": {},
   "outputs": [],
   "source": [
    "import os\n",
    "import numpy as np\n",
    "import pandas as pd\n",
    "import seaborn as sns\n",
    "from functools import reduce\n",
    "\n",
    "%matplotlib inline\n",
    "import warnings\n",
    "warnings.filterwarnings('ignore')"
   ]
  },
  {
   "cell_type": "code",
   "execution_count": 2,
   "metadata": {},
   "outputs": [],
   "source": [
    "import nltk\n",
    "from nltk.tokenize import ToktokTokenizer\n",
    "from nltk.corpus import stopwords\n",
    "from nltk.stem.snowball import RussianStemmer\n",
    "import re\n",
    "\n",
    "import matplotlib.pyplot as plt\n",
    "import matplotlib.cm as cm\n",
    "\n",
    "from sklearn.feature_extraction.text import TfidfVectorizer"
   ]
  },
  {
   "cell_type": "code",
   "execution_count": 6,
   "metadata": {},
   "outputs": [],
   "source": [
    "def remove_tags(line):\n",
    "    char_regex = re.compile(r'<[a-z]>')\n",
    "    line = char_regex.sub(' ', str(line).lower())\n",
    "    return line"
   ]
  },
  {
   "cell_type": "code",
   "execution_count": 10,
   "metadata": {},
   "outputs": [],
   "source": [
    "def spell_check(line):\n",
    "    char_regex = re.compile(r'[^а-я]')\n",
    "    line = char_regex.sub(' ', line.lower())\n",
    "    \n",
    "    chkr_ru = SpellChecker(d_ru)\n",
    "    chkr_ru.set_text(line)\n",
    "    mistakes_ru = set([err.word for err in chkr_ru])\n",
    "    \n",
    "    \n",
    "    tokenized = toktok.tokenize(line)\n",
    "    num_mistakes=0\n",
    "    for i in tokenized:\n",
    "        if i in mistakes_ru:\n",
    "            num_mistakes+=1\n",
    "            \n",
    "    num_words = len(line.split(' '))\n",
    "    \n",
    "    mistakes_rate = num_mistakes / num_words\n",
    "            \n",
    "    return mistakes_rate"
   ]
  },
  {
   "cell_type": "code",
   "execution_count": 3,
   "metadata": {},
   "outputs": [],
   "source": [
    "train = pd.read_csv('train.csv', sep=';')\n",
    "test = pd.read_csv('test.csv', sep=';')"
   ]
  },
  {
   "cell_type": "code",
   "execution_count": 4,
   "metadata": {},
   "outputs": [],
   "source": [
    "data = pd.read_csv('employment_preprocessed.csv')"
   ]
  },
  {
   "cell_type": "code",
   "execution_count": 5,
   "metadata": {},
   "outputs": [
    {
     "data": {
      "text/plain": [
       "(923643, 8)"
      ]
     },
     "execution_count": 5,
     "metadata": {},
     "output_type": "execute_result"
    }
   ],
   "source": [
    "data.shape"
   ]
  },
  {
   "cell_type": "code",
   "execution_count": 14,
   "metadata": {},
   "outputs": [],
   "source": [
    "# data.id.isna().sum()"
   ]
  },
  {
   "cell_type": "code",
   "execution_count": 15,
   "metadata": {},
   "outputs": [],
   "source": [
    "data = data[data['id'].notnull()]"
   ]
  },
  {
   "cell_type": "code",
   "execution_count": 18,
   "metadata": {},
   "outputs": [
    {
     "data": {
      "text/html": [
       "<div>\n",
       "<style scoped>\n",
       "    .dataframe tbody tr th:only-of-type {\n",
       "        vertical-align: middle;\n",
       "    }\n",
       "\n",
       "    .dataframe tbody tr th {\n",
       "        vertical-align: top;\n",
       "    }\n",
       "\n",
       "    .dataframe thead th {\n",
       "        text-align: right;\n",
       "    }\n",
       "</style>\n",
       "<table border=\"1\" class=\"dataframe\">\n",
       "  <thead>\n",
       "    <tr style=\"text-align: right;\">\n",
       "      <th></th>\n",
       "      <th>id</th>\n",
       "      <th>position</th>\n",
       "      <th>employer</th>\n",
       "      <th>achievements</th>\n",
       "      <th>responsibilities</th>\n",
       "      <th>start_date</th>\n",
       "      <th>finish_date</th>\n",
       "      <th>text</th>\n",
       "    </tr>\n",
       "  </thead>\n",
       "  <tbody>\n",
       "    <tr>\n",
       "      <th>892714</th>\n",
       "      <td>99998.0</td>\n",
       "      <td>Специалист по микрофинансовым операциям</td>\n",
       "      <td>АО \"Вайнемейнен\"</td>\n",
       "      <td>NaN</td>\n",
       "      <td>&lt;ul&gt;&lt;li&gt;Оформление договоров займа&lt;/li&gt;&lt;li&gt;При...</td>\n",
       "      <td>2016-04-01</td>\n",
       "      <td>2020-03-01</td>\n",
       "      <td>оформлен договор займ при наличн формирован ар...</td>\n",
       "    </tr>\n",
       "    <tr>\n",
       "      <th>892715</th>\n",
       "      <td>99999.0</td>\n",
       "      <td>Секретарь</td>\n",
       "      <td>Департамент здравоохранения и социальной помощ...</td>\n",
       "      <td>NaN</td>\n",
       "      <td>&lt;ol&gt;&lt;li&gt;Ведения делопроизводства, выполнения п...</td>\n",
       "      <td>2006-06-01</td>\n",
       "      <td>2014-12-01</td>\n",
       "      <td>веден делопроизводств выполнен поручен руковод...</td>\n",
       "    </tr>\n",
       "  </tbody>\n",
       "</table>\n",
       "</div>"
      ],
      "text/plain": [
       "             id                                 position  \\\n",
       "892714  99998.0  Специалист по микрофинансовым операциям   \n",
       "892715  99999.0                                Секретарь   \n",
       "\n",
       "                                                 employer achievements  \\\n",
       "892714                                   АО \"Вайнемейнен\"          NaN   \n",
       "892715  Департамент здравоохранения и социальной помощ...          NaN   \n",
       "\n",
       "                                         responsibilities  start_date  \\\n",
       "892714  <ul><li>Оформление договоров займа</li><li>При...  2016-04-01   \n",
       "892715  <ol><li>Ведения делопроизводства, выполнения п...  2006-06-01   \n",
       "\n",
       "       finish_date                                               text  \n",
       "892714  2020-03-01  оформлен договор займ при наличн формирован ар...  \n",
       "892715  2014-12-01  веден делопроизводств выполнен поручен руковод...  "
      ]
     },
     "execution_count": 18,
     "metadata": {},
     "output_type": "execute_result"
    }
   ],
   "source": [
    "data.tail(2)"
   ]
  },
  {
   "cell_type": "code",
   "execution_count": 22,
   "metadata": {},
   "outputs": [
    {
     "data": {
      "text/plain": [
       "10301"
      ]
     },
     "execution_count": 22,
     "metadata": {},
     "output_type": "execute_result"
    }
   ],
   "source": [
    "data['text'].isna().sum()"
   ]
  },
  {
   "cell_type": "code",
   "execution_count": 23,
   "metadata": {},
   "outputs": [],
   "source": [
    "data['text'].fillna('',inplace=True)"
   ]
  },
  {
   "cell_type": "markdown",
   "metadata": {},
   "source": [
    "### Стат. признаки текста"
   ]
  },
  {
   "cell_type": "code",
   "execution_count": 7,
   "metadata": {},
   "outputs": [],
   "source": [
    "# уберем только html тэги\n",
    "data['resp_no_tags'] = data['responsibilities'].apply(remove_tags)"
   ]
  },
  {
   "cell_type": "code",
   "execution_count": 9,
   "metadata": {},
   "outputs": [],
   "source": [
    "from string import punctuation\n",
    "\n",
    "# длина комментария\n",
    "data[\"answer_len\"] = data['resp_no_tags'].apply(len)\n",
    "\n",
    "# кол-во слов с заглавной буквы\n",
    "data['upper_case_word_count'] = data['resp_no_tags'].apply(lambda x: len([wrd for wrd in x.split() if wrd[0].isupper()]))\n",
    "\n",
    "# кол-во знаков препинания\n",
    "data['punctuation_count'] = data['resp_no_tags'].apply(lambda x: len(\"\".join(_ for _ in x if _ in punctuation)))"
   ]
  },
  {
   "cell_type": "code",
   "execution_count": null,
   "metadata": {},
   "outputs": [],
   "source": [
    "# Определим процент грамматических ошибок\n",
    "import re\n",
    "import pandas as pd\n",
    "import enchant\n",
    "from enchant.checker import SpellChecker\n",
    "from nltk.tokenize import ToktokTokenizer\n",
    "\n",
    "# инициализируем словари\n",
    "d_ru = enchant.DictWithPWL('ru')\n",
    "\n",
    "#инициализируем токенайзер\n",
    "toktok = ToktokTokenizer()\n",
    "\n",
    "data['resp_grammar_mistakes_per_cent'] = data['resp_no_tags'].apply(spell_check)"
   ]
  },
  {
   "cell_type": "markdown",
   "metadata": {},
   "source": [
    "### Векторизация с Tf - idf"
   ]
  },
  {
   "cell_type": "code",
   "execution_count": 24,
   "metadata": {
    "scrolled": true
   },
   "outputs": [
    {
     "data": {
      "text/plain": [
       "TfidfVectorizer(max_features=1000, ngram_range=(1, 3))"
      ]
     },
     "execution_count": 24,
     "metadata": {},
     "output_type": "execute_result"
    }
   ],
   "source": [
    "vect = TfidfVectorizer(ngram_range=(1,3), max_features=1000)\n",
    "vect.fit(data['text'])"
   ]
  },
  {
   "cell_type": "code",
   "execution_count": 25,
   "metadata": {},
   "outputs": [],
   "source": [
    "vectors = vect.transform(data['text'])"
   ]
  },
  {
   "cell_type": "markdown",
   "metadata": {},
   "source": [
    "### clustering"
   ]
  },
  {
   "cell_type": "code",
   "execution_count": 30,
   "metadata": {},
   "outputs": [],
   "source": [
    "from sklearn.cluster import MiniBatchKMeans\n",
    "from sklearn.decomposition import PCA\n",
    "from sklearn.manifold import TSNE"
   ]
  },
  {
   "cell_type": "code",
   "execution_count": 31,
   "metadata": {},
   "outputs": [],
   "source": [
    "def find_optimal_clusters(data, max_k):\n",
    "    iters = range(2, max_k+1, 2)\n",
    "    \n",
    "    sse = []\n",
    "    for k in iters:\n",
    "        sse.append(MiniBatchKMeans(n_clusters=k, init_size=1024, batch_size=2048, random_state=20).fit(data).inertia_)\n",
    "        print('Fit {} clusters'.format(k))\n",
    "        \n",
    "    f, ax = plt.subplots(1, 1)\n",
    "    ax.plot(iters, sse, marker='o')\n",
    "    ax.set_xlabel('Cluster Centers')\n",
    "    ax.set_xticks(iters)\n",
    "    ax.set_xticklabels(iters)\n",
    "    ax.set_ylabel('SSE')\n",
    "    ax.set_title('SSE by Cluster Center Plot')"
   ]
  },
  {
   "cell_type": "code",
   "execution_count": 51,
   "metadata": {},
   "outputs": [
    {
     "name": "stdout",
     "output_type": "stream",
     "text": [
      "Fit 2 clusters\n",
      "Fit 4 clusters\n",
      "Fit 6 clusters\n",
      "Fit 8 clusters\n",
      "Fit 10 clusters\n",
      "Fit 12 clusters\n",
      "Fit 14 clusters\n",
      "Fit 16 clusters\n",
      "Fit 18 clusters\n",
      "Fit 20 clusters\n",
      "Fit 22 clusters\n",
      "Fit 24 clusters\n",
      "Fit 26 clusters\n",
      "Fit 28 clusters\n",
      "Fit 30 clusters\n",
      "Fit 32 clusters\n",
      "Fit 34 clusters\n",
      "Fit 36 clusters\n",
      "Fit 38 clusters\n",
      "Fit 40 clusters\n",
      "Fit 42 clusters\n",
      "Fit 44 clusters\n",
      "Fit 46 clusters\n",
      "Fit 48 clusters\n",
      "Fit 50 clusters\n"
     ]
    },
    {
     "data": {
      "image/png": "[encoded data removed]",
      "text/plain": [
       "<Figure size 432x288 with 1 Axes>"
      ]
     },
     "metadata": {
      "needs_background": "light"
     },
     "output_type": "display_data"
    }
   ],
   "source": [
    "find_optimal_clusters(vectors, 50)"
   ]
  },
  {
   "cell_type": "code",
   "execution_count": 79,
   "metadata": {},
   "outputs": [],
   "source": [
    "clusters = MiniBatchKMeans(n_clusters=50, init_size=1024, batch_size=2048, random_state=20).fit_predict(vectors)"
   ]
  },
  {
   "cell_type": "code",
   "execution_count": 80,
   "metadata": {},
   "outputs": [],
   "source": [
    "def plot_tsne_pca(data, labels):\n",
    "    max_label = max(labels)\n",
    "    max_items = np.random.choice(range(data.shape[0]), size=5000, replace=False)\n",
    "    \n",
    "    pca = PCA(n_components=2).fit_transform(data[max_items,:].todense())\n",
    "    tsne = TSNE().fit_transform(PCA(n_components=50).fit_transform(data[max_items,:].todense()))\n",
    "    \n",
    "    \n",
    "    idx = np.random.choice(range(pca.shape[0]), size=300, replace=False)\n",
    "    label_subset = labels[max_items]\n",
    "    label_subset = [cm.hsv(i/max_label) for i in label_subset[idx]]\n",
    "    \n",
    "    f, ax = plt.subplots(1, 2, figsize=(14, 6))\n",
    "    \n",
    "    ax[0].scatter(pca[idx, 0], pca[idx, 1], c=label_subset)\n",
    "    ax[0].set_title('PCA Cluster Plot')\n",
    "    \n",
    "    ax[1].scatter(tsne[idx, 0], tsne[idx, 1], c=label_subset)\n",
    "    ax[1].set_title('TSNE Cluster Plot')"
   ]
  },
  {
   "cell_type": "code",
   "execution_count": 81,
   "metadata": {},
   "outputs": [
    {
     "data": {
      "image/png": "[encoded data removed]",
      "text/plain": [
       "<Figure size 1008x432 with 2 Axes>"
      ]
     },
     "metadata": {
      "needs_background": "light"
     },
     "output_type": "display_data"
    }
   ],
   "source": [
    "plot_tsne_pca(vectors, clusters)"
   ]
  },
  {
   "cell_type": "code",
   "execution_count": 82,
   "metadata": {},
   "outputs": [],
   "source": [
    "def get_top_keywords(data, clusters, labels, n_terms):\n",
    "    df = pd.DataFrame(data.todense()).groupby(clusters).mean()\n",
    "    \n",
    "    for i,r in df.iterrows():\n",
    "        print('\\nCluster {}'.format(i))\n",
    "        print(','.join([labels[t] for t in np.argsort(r)[-n_terms:]]))\n",
    "            "
   ]
  },
  {
   "cell_type": "code",
   "execution_count": 83,
   "metadata": {},
   "outputs": [
    {
     "name": "stdout",
     "output_type": "stream",
     "text": [
      "\n",
      "Cluster 0\n",
      "веден,сдач,налогов,отчетн,учет,начислен,расчет,заработн плат,заработн,плат\n",
      "\n",
      "Cluster 1\n",
      "установк,эксплуатац,газов,работ,установок,оператор,ремонт,обслуживан,оборудован,котельн\n",
      "\n",
      "Cluster 2\n",
      "установк,обслуживан,работ,трубопровод,конструкц,ремонт,сист,оборудован,демонтаж,монтаж\n",
      "\n",
      "Cluster 3\n",
      "при,водител,проведен,оформлен,подготовк,составлен,документац,документ,веден,работ\n",
      "\n",
      "Cluster 4\n",
      "сопровожден,рабоч,оборудован,выполнен,обеспечен,производств,руководств,уход,издел,обязан\n",
      "\n",
      "Cluster 5\n",
      "водител,при,руководств,работ,гсм,тмц,организац,подрядн,подрядн организац,склад\n",
      "\n",
      "Cluster 6\n",
      "издел,гост,соблюден,технологическ,согласн,продукт,карт,холодн,блюд,приготовлен\n",
      "\n",
      "Cluster 7\n",
      "магазин,склад,работ,при,консультирован,консультац,покупател,продаж товар,продаж,товар\n",
      "\n",
      "Cluster 8\n",
      "контрол,составлен,товар,проведен,при,документац работ,работ,веден,документац,веден документац\n",
      "\n",
      "Cluster 9\n",
      "продаж,обеспечен,работ работ,сбор,обслуживан,приемк,проведен,оформлен,документ,работ\n",
      "\n",
      "Cluster 10\n",
      "техническ,техник,ремонт оборудован,автомобил,электрооборудован,обслуживан ремонт,ремонт обслуживан,оборудован,обслуживан,ремонт\n",
      "\n",
      "Cluster 11\n",
      "звонк,информац,дан,входя,документац,первичн,работ,при,документ,обработк\n",
      "\n",
      "Cluster 12\n",
      "магазин,сотрудник,оборудован,организац,работ персона,организац контрол,персона,работ,контрол,контрол работ\n",
      "\n",
      "Cluster 13\n",
      "документ,орган,договор,юридическ,подготовк,интерес,исков,судебн,правов,суд\n",
      "\n",
      "Cluster 14\n",
      "интерес,заключен,разработк,вопрос,документ,подготовк,деятельн,деятельн предприят,предприят,правов\n",
      "\n",
      "Cluster 15\n",
      "при,работ,корреспонденц,документ,выполнен,выполнен поручен руководител,выполнен поручен,поручен,поручен руководител,руководител\n",
      "\n",
      "Cluster 16\n",
      "перемещен,склад,при,документ,материал,работ документ,работ,продукц,выгрузк,погрузк\n",
      "\n",
      "Cluster 17\n",
      "сметн,бюджетн,выгрузк,подготовк сдач,гос,работ подготовк,демонтаж,закреплен,программ,подготовк\n",
      "\n",
      "Cluster 18\n",
      "работ работ,строительн,выполнен работ,работ документац,документац,детьм,выполнен,документ,работ документ,работ\n",
      "\n",
      "Cluster 19\n",
      "консультац,клиент,консультирован,зал,продаж,товар,покупател,работ,работ касс,касс\n",
      "\n",
      "Cluster 20\n",
      "работ документ,арх,документ,отдел,кадр,работ,веден,судебн,документооборот,делопроизводств\n",
      "\n",
      "Cluster 21\n",
      "исполнен,работ,должностн обязан,выполнен,соответств,обязан,согласн,инструкц,должностн инструкц,должностн\n",
      "\n",
      "Cluster 22\n",
      "консультирован клиент,веден,консультирован,поиск,работ,продаж,заключен договор,заключен,договор,клиент\n",
      "\n",
      "Cluster 23\n",
      "работ,веден,при,выдач,операц,наличн,кассов,средств,денежн средств,денежн\n",
      "\n",
      "Cluster 24\n",
      "работ,организац,родител,подготовк,индивидуальн,учебн,дет,детьм,проведен,занят\n",
      "\n",
      "Cluster 25\n",
      "кредит,кредитн,кредитован,кредиторск,кредиторск задолжен,кс,культур,координац,язык,работ\n",
      "\n",
      "Cluster 26\n",
      "клиент,операц,счет,работ,обслуживан,физическ лиц,юридическ лиц,юридическ,физическ,лиц\n",
      "\n",
      "Cluster 27\n",
      "консультирован покупател,консультирован,зал,работ,работ касс,касс,покупател,выкладк товар,товар,выкладк\n",
      "\n",
      "Cluster 28\n",
      "документац,документ,договор,веден,клиент работ,оформлен,продаж,работ,клиент,работ клиент\n",
      "\n",
      "Cluster 29\n",
      "подготовк,проверк,взаимодейств,заполнен,орган,подготовк документ,платеж,документ,груз,таможен\n",
      "\n",
      "Cluster 30\n",
      "консультирован,банковск продукт,банк,банковск,продаж,кредитн,оформлен,кредит,клиент,продукт\n",
      "\n",
      "Cluster 31\n",
      "оборудован,разработк,организац работ,обеспечен,техническ,выполнен,проведен,работ,контрол,организац\n",
      "\n",
      "Cluster 32\n",
      "техническ,техническ обслуживан,работ,покупател,клиент,гост,обслуживан покупател,оборудован,обслуживан клиент,обслуживан\n",
      "\n",
      "Cluster 33\n",
      "обучен,основ,информацион,технолог,образовательн,практик,дисциплин,образован,профессиональн,студент\n",
      "\n",
      "Cluster 34\n",
      "отдел,цех,врем,лет,должност,умен,водител,работ,год,работа\n",
      "\n",
      "Cluster 35\n",
      "пользовател,начальник,написан,оргтехник,филиа,язык,расходн материал,им,автоматизац,отдел\n",
      "\n",
      "Cluster 36\n",
      "дет,групп,детьм,уход,производствен,помощ,служебн,территор,помещен,уборк\n",
      "\n",
      "Cluster 37\n",
      "документ,договорн работ,договорн,заключен,заключен договор,договор,работ,организац,подрядн организац,подрядн\n",
      "\n",
      "Cluster 38\n",
      "процесс,продаж,магазин,контрол,организац,автомобил,работ,персонал,управлен персонал,управлен\n",
      "\n",
      "Cluster 39\n",
      "лин,клиент,связ,настройк,услуг,сет,продаж,телефон,интернет,подключен\n",
      "\n",
      "Cluster 40\n",
      "руководств,экономическ,анализ,деятельн предприят,предприят,финансов,хозяйствен деятельн,организац,хозяйствен,деятельн\n",
      "\n",
      "Cluster 41\n",
      "веден делопроизводств,увольнен,учет,веден кадров делопроизводств,трудов,веден кадров,кадров делопроизводств,веден,кадров,делопроизводств\n",
      "\n",
      "Cluster 42\n",
      "служб,доставк,изготовлен,сварк,обучен,автомобил,сборк,дет,груз,перевозк\n",
      "\n",
      "Cluster 43\n",
      "налогов учет,отчетн,бухгалтерск налогов,налогов,веден бухгалтерск учет,веден,веден бухгалтерск,бухгалтерск учет,учет,бухгалтерск\n",
      "\n",
      "Cluster 44\n",
      "упаковк,работ,продаж,контрол качеств,производств,качеств,контрол,готов,готов продукц,продукц\n",
      "\n",
      "Cluster 45\n",
      "обеспечен безопасн,рабоч,ремонт,техник,безопасн,строительств,строительн,работ,движен,дорожн\n",
      "\n",
      "Cluster 46\n",
      "безопасн,предприят,пожарн,режим,имуществ,порядк,обществен,территор,объект,охра\n",
      "\n",
      "Cluster 47\n",
      "взаимодейств,обучен,баз,переговор,развит,веден переговор,руководств,оператор,отделен,региональн\n",
      "\n",
      "Cluster 48\n",
      "фз,коммерческ,оп,рф,планирован,вопрос,организац,приказ,деятельн,росс\n",
      "\n",
      "Cluster 49\n",
      "эксплуатац,веден,издел,документац,конструкц,техническ,подготовк,техническ документац,сдач,подготовк сдач\n"
     ]
    }
   ],
   "source": [
    "get_top_keywords(vectors, clusters, vect.get_feature_names(), 10)"
   ]
  },
  {
   "cell_type": "code",
   "execution_count": 88,
   "metadata": {},
   "outputs": [],
   "source": [
    "data['cluster'] = clusters"
   ]
  },
  {
   "cell_type": "code",
   "execution_count": 144,
   "metadata": {
    "scrolled": true
   },
   "outputs": [],
   "source": [
    "train_salary_cluster = pd.merge(train[['id', 'salary']], data, on='id')\n",
    "test_salary_cluster = pd.merge(test[['id']], data, on='id')"
   ]
  },
  {
   "cell_type": "code",
   "execution_count": 145,
   "metadata": {},
   "outputs": [
    {
     "data": {
      "text/plain": [
       "((306270, 25), (625430, 10))"
      ]
     },
     "execution_count": 145,
     "metadata": {},
     "output_type": "execute_result"
    }
   ],
   "source": [
    "train.shape, train_salary_cluster.shape"
   ]
  },
  {
   "cell_type": "code",
   "execution_count": 146,
   "metadata": {},
   "outputs": [
    {
     "data": {
      "text/plain": [
       "((131259, 24), (267286, 9))"
      ]
     },
     "execution_count": 146,
     "metadata": {},
     "output_type": "execute_result"
    }
   ],
   "source": [
    "test.shape, test_salary_cluster.shape"
   ]
  },
  {
   "cell_type": "code",
   "execution_count": 147,
   "metadata": {},
   "outputs": [],
   "source": [
    "# посмотрим на данные"
   ]
  },
  {
   "cell_type": "code",
   "execution_count": 148,
   "metadata": {
    "scrolled": true
   },
   "outputs": [
    {
     "data": {
      "text/html": [
       "<div>\n",
       "<style scoped>\n",
       "    .dataframe tbody tr th:only-of-type {\n",
       "        vertical-align: middle;\n",
       "    }\n",
       "\n",
       "    .dataframe tbody tr th {\n",
       "        vertical-align: top;\n",
       "    }\n",
       "\n",
       "    .dataframe thead th {\n",
       "        text-align: right;\n",
       "    }\n",
       "</style>\n",
       "<table border=\"1\" class=\"dataframe\">\n",
       "  <thead>\n",
       "    <tr style=\"text-align: right;\">\n",
       "      <th></th>\n",
       "      <th>id</th>\n",
       "      <th>salary</th>\n",
       "      <th>position</th>\n",
       "      <th>employer</th>\n",
       "      <th>achievements</th>\n",
       "      <th>responsibilities</th>\n",
       "      <th>start_date</th>\n",
       "      <th>finish_date</th>\n",
       "      <th>text</th>\n",
       "      <th>cluster</th>\n",
       "    </tr>\n",
       "  </thead>\n",
       "  <tbody>\n",
       "    <tr>\n",
       "      <th>10812</th>\n",
       "      <td>7166</td>\n",
       "      <td>27749</td>\n",
       "      <td>Ассистент</td>\n",
       "      <td>Костромской государственный университет</td>\n",
       "      <td>NaN</td>\n",
       "      <td>&lt;p&gt;Организация образовательного процесса (преп...</td>\n",
       "      <td>2017-09-01</td>\n",
       "      <td>NaN</td>\n",
       "      <td>организац образовательн процесс преподаван дис...</td>\n",
       "      <td>33</td>\n",
       "    </tr>\n",
       "    <tr>\n",
       "      <th>103704</th>\n",
       "      <td>71853</td>\n",
       "      <td>19905</td>\n",
       "      <td>преподаватель</td>\n",
       "      <td>Вельский экономический техникум</td>\n",
       "      <td>NaN</td>\n",
       "      <td>&lt;p&gt;Преподавание дисциплины \"Информационные тех...</td>\n",
       "      <td>1993-10-01</td>\n",
       "      <td>2008-10-01</td>\n",
       "      <td>преподаван дисциплин информацион технолог студ...</td>\n",
       "      <td>33</td>\n",
       "    </tr>\n",
       "    <tr>\n",
       "      <th>111475</th>\n",
       "      <td>77235</td>\n",
       "      <td>30000</td>\n",
       "      <td>Преподаватель информатики</td>\n",
       "      <td>ГПОУ \"Кемеровский техникум индустрии питания и...</td>\n",
       "      <td>NaN</td>\n",
       "      <td>&lt;p&gt;обучение студентов по дисциплине Информатик...</td>\n",
       "      <td>2020-04-01</td>\n",
       "      <td>2020-07-01</td>\n",
       "      <td>обучен студент дисциплин информатик информацио...</td>\n",
       "      <td>33</td>\n",
       "    </tr>\n",
       "    <tr>\n",
       "      <th>111476</th>\n",
       "      <td>77235</td>\n",
       "      <td>30000</td>\n",
       "      <td>Преподаватель информатики</td>\n",
       "      <td>ГПОУ \"Кемеровский педагогический колледж\"</td>\n",
       "      <td>NaN</td>\n",
       "      <td>&lt;p&gt;обучение студентов по дисциплине Информатик...</td>\n",
       "      <td>2008-10-01</td>\n",
       "      <td>2020-02-01</td>\n",
       "      <td>обучен студент дисциплин информатик информацио...</td>\n",
       "      <td>33</td>\n",
       "    </tr>\n",
       "    <tr>\n",
       "      <th>167622</th>\n",
       "      <td>116656</td>\n",
       "      <td>28878</td>\n",
       "      <td>преподаватель</td>\n",
       "      <td>ФГБОУ ВПО \"УдГУ\"</td>\n",
       "      <td>NaN</td>\n",
       "      <td>&lt;p&gt;преподавание по образовательным программам ...</td>\n",
       "      <td>2017-09-01</td>\n",
       "      <td>NaN</td>\n",
       "      <td>преподаван образовательн программ высш професс...</td>\n",
       "      <td>33</td>\n",
       "    </tr>\n",
       "    <tr>\n",
       "      <th>172550</th>\n",
       "      <td>120175</td>\n",
       "      <td>100000</td>\n",
       "      <td>Помощник ректора по административно-хозяйствен...</td>\n",
       "      <td>Коми республиканская академия государственной ...</td>\n",
       "      <td>NaN</td>\n",
       "      <td>&lt;p&gt;Реализация образовательных программ высшего...</td>\n",
       "      <td>2002-08-01</td>\n",
       "      <td>2002-12-01</td>\n",
       "      <td>реализац образовательн программ высш профессио...</td>\n",
       "      <td>33</td>\n",
       "    </tr>\n",
       "    <tr>\n",
       "      <th>172551</th>\n",
       "      <td>120175</td>\n",
       "      <td>100000</td>\n",
       "      <td>Помощник ректора по административно-хозяйствен...</td>\n",
       "      <td>Республиканская академия госслужбы и управления</td>\n",
       "      <td>NaN</td>\n",
       "      <td>&lt;p&gt;Реализация образовательных программ высшего...</td>\n",
       "      <td>2002-12-01</td>\n",
       "      <td>2006-02-01</td>\n",
       "      <td>реализац образовательн программ высш профессио...</td>\n",
       "      <td>33</td>\n",
       "    </tr>\n",
       "    <tr>\n",
       "      <th>348577</th>\n",
       "      <td>243840</td>\n",
       "      <td>24065</td>\n",
       "      <td>старший лаборант</td>\n",
       "      <td>Поволжская академия государственной службы им....</td>\n",
       "      <td>NaN</td>\n",
       "      <td>&lt;p&gt;Работа со студентами в Деканате факультета ...</td>\n",
       "      <td>2007-11-01</td>\n",
       "      <td>2008-05-01</td>\n",
       "      <td>работ студент деканат факультет втор высш проф...</td>\n",
       "      <td>33</td>\n",
       "    </tr>\n",
       "    <tr>\n",
       "      <th>572113</th>\n",
       "      <td>400023</td>\n",
       "      <td>41520</td>\n",
       "      <td>ассистент, кафедра основ архитектуры</td>\n",
       "      <td>ФГБОУ ВО \"Государственный университет по земле...</td>\n",
       "      <td>NaN</td>\n",
       "      <td>&lt;p&gt;Преподавание дисциплин \"Архитектурное проек...</td>\n",
       "      <td>2015-09-01</td>\n",
       "      <td>NaN</td>\n",
       "      <td>преподаван дисциплин архитектурн проектирован ...</td>\n",
       "      <td>33</td>\n",
       "    </tr>\n",
       "    <tr>\n",
       "      <th>593713</th>\n",
       "      <td>415391</td>\n",
       "      <td>22289</td>\n",
       "      <td>Координатор образовательного проекта в рамках ...</td>\n",
       "      <td>Государственный университет управления</td>\n",
       "      <td>&lt;p&gt;Представила проект в международном конкурсе...</td>\n",
       "      <td>&lt;p&gt;Придумала и реализовала профессиональный об...</td>\n",
       "      <td>2015-09-01</td>\n",
       "      <td>2015-12-01</td>\n",
       "      <td>придума реализова профессиональн образовательн...</td>\n",
       "      <td>33</td>\n",
       "    </tr>\n",
       "  </tbody>\n",
       "</table>\n",
       "</div>"
      ],
      "text/plain": [
       "            id  salary                                           position  \\\n",
       "10812     7166   27749                                          Ассистент   \n",
       "103704   71853   19905                                      преподаватель   \n",
       "111475   77235   30000                          Преподаватель информатики   \n",
       "111476   77235   30000                          Преподаватель информатики   \n",
       "167622  116656   28878                                      преподаватель   \n",
       "172550  120175  100000  Помощник ректора по административно-хозяйствен...   \n",
       "172551  120175  100000  Помощник ректора по административно-хозяйствен...   \n",
       "348577  243840   24065                                   старший лаборант   \n",
       "572113  400023   41520               ассистент, кафедра основ архитектуры   \n",
       "593713  415391   22289  Координатор образовательного проекта в рамках ...   \n",
       "\n",
       "                                                 employer  \\\n",
       "10812             Костромской государственный университет   \n",
       "103704                    Вельский экономический техникум   \n",
       "111475  ГПОУ \"Кемеровский техникум индустрии питания и...   \n",
       "111476          ГПОУ \"Кемеровский педагогический колледж\"   \n",
       "167622                                   ФГБОУ ВПО \"УдГУ\"   \n",
       "172550  Коми республиканская академия государственной ...   \n",
       "172551    Республиканская академия госслужбы и управления   \n",
       "348577  Поволжская академия государственной службы им....   \n",
       "572113  ФГБОУ ВО \"Государственный университет по земле...   \n",
       "593713             Государственный университет управления   \n",
       "\n",
       "                                             achievements  \\\n",
       "10812                                                 NaN   \n",
       "103704                                                NaN   \n",
       "111475                                                NaN   \n",
       "111476                                                NaN   \n",
       "167622                                                NaN   \n",
       "172550                                                NaN   \n",
       "172551                                                NaN   \n",
       "348577                                                NaN   \n",
       "572113                                                NaN   \n",
       "593713  <p>Представила проект в международном конкурсе...   \n",
       "\n",
       "                                         responsibilities  start_date  \\\n",
       "10812   <p>Организация образовательного процесса (преп...  2017-09-01   \n",
       "103704  <p>Преподавание дисциплины \"Информационные тех...  1993-10-01   \n",
       "111475  <p>обучение студентов по дисциплине Информатик...  2020-04-01   \n",
       "111476  <p>обучение студентов по дисциплине Информатик...  2008-10-01   \n",
       "167622  <p>преподавание по образовательным программам ...  2017-09-01   \n",
       "172550  <p>Реализация образовательных программ высшего...  2002-08-01   \n",
       "172551  <p>Реализация образовательных программ высшего...  2002-12-01   \n",
       "348577  <p>Работа со студентами в Деканате факультета ...  2007-11-01   \n",
       "572113  <p>Преподавание дисциплин \"Архитектурное проек...  2015-09-01   \n",
       "593713  <p>Придумала и реализовала профессиональный об...  2015-09-01   \n",
       "\n",
       "       finish_date                                               text  cluster  \n",
       "10812          NaN  организац образовательн процесс преподаван дис...       33  \n",
       "103704  2008-10-01  преподаван дисциплин информацион технолог студ...       33  \n",
       "111475  2020-07-01  обучен студент дисциплин информатик информацио...       33  \n",
       "111476  2020-02-01  обучен студент дисциплин информатик информацио...       33  \n",
       "167622         NaN  преподаван образовательн программ высш професс...       33  \n",
       "172550  2002-12-01  реализац образовательн программ высш профессио...       33  \n",
       "172551  2006-02-01  реализац образовательн программ высш профессио...       33  \n",
       "348577  2008-05-01  работ студент деканат факультет втор высш проф...       33  \n",
       "572113         NaN  преподаван дисциплин архитектурн проектирован ...       33  \n",
       "593713  2015-12-01  придума реализова профессиональн образовательн...       33  "
      ]
     },
     "execution_count": 148,
     "metadata": {},
     "output_type": "execute_result"
    }
   ],
   "source": [
    "train_salary_cluster[train_salary_cluster.cluster==33]"
   ]
  },
  {
   "cell_type": "code",
   "execution_count": 149,
   "metadata": {
    "scrolled": true
   },
   "outputs": [
    {
     "data": {
      "text/html": [
       "<div>\n",
       "<style scoped>\n",
       "    .dataframe tbody tr th:only-of-type {\n",
       "        vertical-align: middle;\n",
       "    }\n",
       "\n",
       "    .dataframe tbody tr th {\n",
       "        vertical-align: top;\n",
       "    }\n",
       "\n",
       "    .dataframe thead th {\n",
       "        text-align: right;\n",
       "    }\n",
       "</style>\n",
       "<table border=\"1\" class=\"dataframe\">\n",
       "  <thead>\n",
       "    <tr style=\"text-align: right;\">\n",
       "      <th></th>\n",
       "      <th>id</th>\n",
       "      <th>position</th>\n",
       "      <th>employer</th>\n",
       "      <th>achievements</th>\n",
       "      <th>responsibilities</th>\n",
       "      <th>start_date</th>\n",
       "      <th>finish_date</th>\n",
       "      <th>text</th>\n",
       "      <th>cluster</th>\n",
       "    </tr>\n",
       "  </thead>\n",
       "  <tbody>\n",
       "    <tr>\n",
       "      <th>59325</th>\n",
       "      <td>97586</td>\n",
       "      <td>мастер производственного обучения</td>\n",
       "      <td>профессиональное училище № 84</td>\n",
       "      <td>NaN</td>\n",
       "      <td>&lt;p&gt;Обучение студентов основам технологии прода...</td>\n",
       "      <td>2002-01-01</td>\n",
       "      <td>2005-09-01</td>\n",
       "      <td>обучен студент основ технолог продаж</td>\n",
       "      <td>33</td>\n",
       "    </tr>\n",
       "    <tr>\n",
       "      <th>65003</th>\n",
       "      <td>106946</td>\n",
       "      <td>ассистент кафедры дошкольной педагогики и детс...</td>\n",
       "      <td>Орский педагогический институт</td>\n",
       "      <td>NaN</td>\n",
       "      <td>&lt;p&gt;Преподавание методики музыки для студентов ...</td>\n",
       "      <td>1994-09-01</td>\n",
       "      <td>1996-10-01</td>\n",
       "      <td>преподаван методик музык студент дошкольн факу...</td>\n",
       "      <td>33</td>\n",
       "    </tr>\n",
       "    <tr>\n",
       "      <th>79090</th>\n",
       "      <td>130202</td>\n",
       "      <td>директор Череповецкого филиала</td>\n",
       "      <td>НОУ ВПО \"Университет российской академии образ...</td>\n",
       "      <td>&lt;p&gt;благодарность Государственной Думы ФС РФ&lt;/p&gt;</td>\n",
       "      <td>&lt;p&gt;руководитель образовательной организации вы...</td>\n",
       "      <td>2012-12-01</td>\n",
       "      <td>2016-10-01</td>\n",
       "      <td>руководител образовательн организац высш профе...</td>\n",
       "      <td>33</td>\n",
       "    </tr>\n",
       "    <tr>\n",
       "      <th>122363</th>\n",
       "      <td>200234</td>\n",
       "      <td>практикант декоратор</td>\n",
       "      <td>Театр Юного Зрителя</td>\n",
       "      <td>NaN</td>\n",
       "      <td>&lt;p&gt;Будучи студентом, проходила несколько раз п...</td>\n",
       "      <td>2018-04-01</td>\n",
       "      <td>2019-07-01</td>\n",
       "      <td>будуч студент проход нескольк практик тюз весн...</td>\n",
       "      <td>33</td>\n",
       "    </tr>\n",
       "    <tr>\n",
       "      <th>200324</th>\n",
       "      <td>327584</td>\n",
       "      <td>Преподаватель</td>\n",
       "      <td>ГБОУ НСО НТК</td>\n",
       "      <td>&lt;p&gt;Курсы повышения квалификации, 1 квалификаци...</td>\n",
       "      <td>&lt;p&gt;Обучение студентов по дисциплине \"Информати...</td>\n",
       "      <td>2016-04-01</td>\n",
       "      <td>NaN</td>\n",
       "      <td>обучен студент дисциплин информатик информацио...</td>\n",
       "      <td>33</td>\n",
       "    </tr>\n",
       "    <tr>\n",
       "      <th>253649</th>\n",
       "      <td>415447</td>\n",
       "      <td>Инженер-химик</td>\n",
       "      <td>Саратовский Государственный Университет им.Н.Г...</td>\n",
       "      <td>NaN</td>\n",
       "      <td>&lt;p style=\"text-align: left,\"&gt;&lt;em&gt;практика со с...</td>\n",
       "      <td>2009-09-01</td>\n",
       "      <td>2011-10-01</td>\n",
       "      <td>практик студент</td>\n",
       "      <td>33</td>\n",
       "    </tr>\n",
       "  </tbody>\n",
       "</table>\n",
       "</div>"
      ],
      "text/plain": [
       "            id                                           position  \\\n",
       "59325    97586                  мастер производственного обучения   \n",
       "65003   106946  ассистент кафедры дошкольной педагогики и детс...   \n",
       "79090   130202                     директор Череповецкого филиала   \n",
       "122363  200234                               практикант декоратор   \n",
       "200324  327584                                      Преподаватель   \n",
       "253649  415447                                      Инженер-химик   \n",
       "\n",
       "                                                 employer  \\\n",
       "59325                       профессиональное училище № 84   \n",
       "65003                      Орский педагогический институт   \n",
       "79090   НОУ ВПО \"Университет российской академии образ...   \n",
       "122363                                Театр Юного Зрителя   \n",
       "200324                                       ГБОУ НСО НТК   \n",
       "253649  Саратовский Государственный Университет им.Н.Г...   \n",
       "\n",
       "                                             achievements  \\\n",
       "59325                                                 NaN   \n",
       "65003                                                 NaN   \n",
       "79090     <p>благодарность Государственной Думы ФС РФ</p>   \n",
       "122363                                                NaN   \n",
       "200324  <p>Курсы повышения квалификации, 1 квалификаци...   \n",
       "253649                                                NaN   \n",
       "\n",
       "                                         responsibilities  start_date  \\\n",
       "59325   <p>Обучение студентов основам технологии прода...  2002-01-01   \n",
       "65003   <p>Преподавание методики музыки для студентов ...  1994-09-01   \n",
       "79090   <p>руководитель образовательной организации вы...  2012-12-01   \n",
       "122363  <p>Будучи студентом, проходила несколько раз п...  2018-04-01   \n",
       "200324  <p>Обучение студентов по дисциплине \"Информати...  2016-04-01   \n",
       "253649  <p style=\"text-align: left,\"><em>практика со с...  2009-09-01   \n",
       "\n",
       "       finish_date                                               text  cluster  \n",
       "59325   2005-09-01              обучен студент основ технолог продаж        33  \n",
       "65003   1996-10-01  преподаван методик музык студент дошкольн факу...       33  \n",
       "79090   2016-10-01  руководител образовательн организац высш профе...       33  \n",
       "122363  2019-07-01  будуч студент проход нескольк практик тюз весн...       33  \n",
       "200324         NaN  обучен студент дисциплин информатик информацио...       33  \n",
       "253649  2011-10-01                                   практик студент        33  "
      ]
     },
     "execution_count": 149,
     "metadata": {},
     "output_type": "execute_result"
    }
   ],
   "source": [
    "test_salary_cluster[test_salary_cluster.cluster==33]"
   ]
  },
  {
   "cell_type": "code",
   "execution_count": 150,
   "metadata": {},
   "outputs": [],
   "source": [
    "# теперь агрегируем среднюю, макс, мин зп по кластеру\n",
    "\n",
    "from functools import reduce\n",
    "\n",
    "def aggregate(data):\n",
    "\n",
    "    mean_df = data.groupby(['cluster'], as_index=False).agg(np.mean)\n",
    "    mean_df.columns = [str(col) + '_mean' if col != 'cluster' else 'cluster' for col in mean_df.columns]\n",
    "    \n",
    "    max_df = data.groupby(['cluster'], as_index=False).agg(np.max)\n",
    "    max_df.columns = [str(col) + '_max' if col != 'cluster' else 'cluster' for col in max_df.columns]\n",
    "    \n",
    "    min_df = data.groupby(['cluster'], as_index=False).agg(np.min)\n",
    "    min_df.columns = [str(col) + '_min' if col != 'cluster' else 'cluster' for col in min_df.columns]\n",
    "    \n",
    "    data_frames = [mean_df, max_df, min_df]\n",
    "\n",
    "    df_merged = reduce(lambda  left,right: pd.merge(left,right,on=['cluster'], how='right'), data_frames)\n",
    "    return df_merged"
   ]
  },
  {
   "cell_type": "code",
   "execution_count": 151,
   "metadata": {},
   "outputs": [],
   "source": [
    "salary_by_cluster = aggregate(train_salary_cluster[['cluster', 'salary']])"
   ]
  },
  {
   "cell_type": "code",
   "execution_count": 152,
   "metadata": {},
   "outputs": [
    {
     "data": {
      "text/plain": [
       "(50, 4)"
      ]
     },
     "execution_count": 152,
     "metadata": {},
     "output_type": "execute_result"
    }
   ],
   "source": [
    "salary_by_cluster.shape"
   ]
  },
  {
   "cell_type": "code",
   "execution_count": 153,
   "metadata": {},
   "outputs": [
    {
     "data": {
      "text/plain": [
       "(625430, 10)"
      ]
     },
     "execution_count": 153,
     "metadata": {},
     "output_type": "execute_result"
    }
   ],
   "source": [
    "train_salary_cluster.shape"
   ]
  },
  {
   "cell_type": "code",
   "execution_count": 154,
   "metadata": {
    "scrolled": true
   },
   "outputs": [
    {
     "data": {
      "text/html": [
       "<div>\n",
       "<style scoped>\n",
       "    .dataframe tbody tr th:only-of-type {\n",
       "        vertical-align: middle;\n",
       "    }\n",
       "\n",
       "    .dataframe tbody tr th {\n",
       "        vertical-align: top;\n",
       "    }\n",
       "\n",
       "    .dataframe thead th {\n",
       "        text-align: right;\n",
       "    }\n",
       "</style>\n",
       "<table border=\"1\" class=\"dataframe\">\n",
       "  <thead>\n",
       "    <tr style=\"text-align: right;\">\n",
       "      <th></th>\n",
       "      <th>cluster</th>\n",
       "      <th>salary_mean</th>\n",
       "      <th>salary_max</th>\n",
       "      <th>salary_min</th>\n",
       "      <th>id</th>\n",
       "      <th>salary</th>\n",
       "      <th>position</th>\n",
       "      <th>employer</th>\n",
       "      <th>achievements</th>\n",
       "      <th>responsibilities</th>\n",
       "      <th>start_date</th>\n",
       "      <th>finish_date</th>\n",
       "      <th>text</th>\n",
       "    </tr>\n",
       "  </thead>\n",
       "  <tbody>\n",
       "    <tr>\n",
       "      <th>0</th>\n",
       "      <td>0</td>\n",
       "      <td>44833.370096</td>\n",
       "      <td>2200039</td>\n",
       "      <td>0</td>\n",
       "      <td>40</td>\n",
       "      <td>50000</td>\n",
       "      <td>бухгалтер</td>\n",
       "      <td>ООО \"ТИС\"</td>\n",
       "      <td>NaN</td>\n",
       "      <td>&lt;ul&gt;&lt;li&gt;Ведение бухгалтерского и налогового уч...</td>\n",
       "      <td>2017-10-01</td>\n",
       "      <td>2018-01-01</td>\n",
       "      <td>веден бухгалтерск налогов учет осн услуг расче...</td>\n",
       "    </tr>\n",
       "    <tr>\n",
       "      <th>1</th>\n",
       "      <td>0</td>\n",
       "      <td>44833.370096</td>\n",
       "      <td>2200039</td>\n",
       "      <td>0</td>\n",
       "      <td>40</td>\n",
       "      <td>50000</td>\n",
       "      <td>Генеральный директор(главный бухгалтер)</td>\n",
       "      <td>ООО \"ПесКарь\"</td>\n",
       "      <td>NaN</td>\n",
       "      <td>&lt;ul&gt;&lt;li&gt;Ведение бухгалтерского и налогового уч...</td>\n",
       "      <td>2016-07-01</td>\n",
       "      <td>2017-10-01</td>\n",
       "      <td>веден бухгалтерск налогов учет полн объем осн ...</td>\n",
       "    </tr>\n",
       "    <tr>\n",
       "      <th>2</th>\n",
       "      <td>0</td>\n",
       "      <td>44833.370096</td>\n",
       "      <td>2200039</td>\n",
       "      <td>0</td>\n",
       "      <td>40</td>\n",
       "      <td>50000</td>\n",
       "      <td>Главный бухгалтер</td>\n",
       "      <td>ООО \"СК Алесио\"</td>\n",
       "      <td>NaN</td>\n",
       "      <td>&lt;ul&gt;&lt;li&gt;Ведение бухгалтерского и налогового уч...</td>\n",
       "      <td>2004-01-01</td>\n",
       "      <td>2012-04-01</td>\n",
       "      <td>веден бухгалтерск налогов учет полн объем осн ...</td>\n",
       "    </tr>\n",
       "    <tr>\n",
       "      <th>3</th>\n",
       "      <td>0</td>\n",
       "      <td>44833.370096</td>\n",
       "      <td>2200039</td>\n",
       "      <td>0</td>\n",
       "      <td>40</td>\n",
       "      <td>50000</td>\n",
       "      <td>зам.главного бухгалтера</td>\n",
       "      <td>ООО \"АкваТехСервис\"</td>\n",
       "      <td>NaN</td>\n",
       "      <td>&lt;ul&gt;&lt;li&gt;Ведение бухгалтерского и налогового уч...</td>\n",
       "      <td>2012-07-01</td>\n",
       "      <td>2015-03-01</td>\n",
       "      <td>веден бухгалтерск налогов учет полн объем енвд...</td>\n",
       "    </tr>\n",
       "    <tr>\n",
       "      <th>4</th>\n",
       "      <td>0</td>\n",
       "      <td>44833.370096</td>\n",
       "      <td>2200039</td>\n",
       "      <td>0</td>\n",
       "      <td>40</td>\n",
       "      <td>50000</td>\n",
       "      <td>зам.главного бухгалтера</td>\n",
       "      <td>ООО \"МЖСтрой\"</td>\n",
       "      <td>NaN</td>\n",
       "      <td>&lt;ul&gt;&lt;li&gt;Ведение бухгалтерского и налогового уч...</td>\n",
       "      <td>2015-03-01</td>\n",
       "      <td>2016-06-01</td>\n",
       "      <td>веден бухгалтерск налогов учет полн объем осн ...</td>\n",
       "    </tr>\n",
       "    <tr>\n",
       "      <th>5</th>\n",
       "      <td>0</td>\n",
       "      <td>44833.370096</td>\n",
       "      <td>2200039</td>\n",
       "      <td>0</td>\n",
       "      <td>40</td>\n",
       "      <td>50000</td>\n",
       "      <td>заместитель главного бухгалтера</td>\n",
       "      <td>ООО \"КРАФТ\"</td>\n",
       "      <td>NaN</td>\n",
       "      <td>&lt;ul&gt;&lt;li&gt;Ведение бухгалтерского и налогового уч...</td>\n",
       "      <td>2018-02-01</td>\n",
       "      <td>2020-05-01</td>\n",
       "      <td>веден бухгалтерск налогов учет полн объем усн ...</td>\n",
       "    </tr>\n",
       "    <tr>\n",
       "      <th>6</th>\n",
       "      <td>0</td>\n",
       "      <td>44833.370096</td>\n",
       "      <td>2200039</td>\n",
       "      <td>0</td>\n",
       "      <td>44</td>\n",
       "      <td>55200</td>\n",
       "      <td>Инженер отдела защиты объемов и договоров ТЭР</td>\n",
       "      <td>ГУП \"ЖКХ РС(Я)\"</td>\n",
       "      <td>NaN</td>\n",
       "      <td>&lt;p&gt;Расчет потерь в теплосетях&lt;/p&gt;</td>\n",
       "      <td>2003-09-01</td>\n",
       "      <td>2005-02-01</td>\n",
       "      <td>расчет потер теплосет</td>\n",
       "    </tr>\n",
       "    <tr>\n",
       "      <th>7</th>\n",
       "      <td>0</td>\n",
       "      <td>44833.370096</td>\n",
       "      <td>2200039</td>\n",
       "      <td>0</td>\n",
       "      <td>194</td>\n",
       "      <td>22836</td>\n",
       "      <td>Бухгалтер</td>\n",
       "      <td>ООО \"Кубань-Баланс\"</td>\n",
       "      <td>NaN</td>\n",
       "      <td>&lt;p&gt;Консультирование, работа в 1С 8.3 (банк, ка...</td>\n",
       "      <td>2015-11-01</td>\n",
       "      <td>2019-05-01</td>\n",
       "      <td>консультирован работ банк касс накладн авансов...</td>\n",
       "    </tr>\n",
       "    <tr>\n",
       "      <th>8</th>\n",
       "      <td>0</td>\n",
       "      <td>44833.370096</td>\n",
       "      <td>2200039</td>\n",
       "      <td>0</td>\n",
       "      <td>194</td>\n",
       "      <td>22836</td>\n",
       "      <td>Бухгалтер</td>\n",
       "      <td>ООО \" Баланс\"</td>\n",
       "      <td>NaN</td>\n",
       "      <td>&lt;p&gt;Ведение ИП (аутсорсинг), формирование отчет...</td>\n",
       "      <td>2011-02-01</td>\n",
       "      <td>2014-06-01</td>\n",
       "      <td>веден ип аутсорсинг формирован отчетн акт счет...</td>\n",
       "    </tr>\n",
       "    <tr>\n",
       "      <th>9</th>\n",
       "      <td>0</td>\n",
       "      <td>44833.370096</td>\n",
       "      <td>2200039</td>\n",
       "      <td>0</td>\n",
       "      <td>236</td>\n",
       "      <td>36330</td>\n",
       "      <td>Бухгалтер</td>\n",
       "      <td>ТСЖ \"ИНТЕР\"</td>\n",
       "      <td>NaN</td>\n",
       "      <td>Расчёт заработной платы, отчисление налогов, о...</td>\n",
       "      <td>2015-09-01</td>\n",
       "      <td>2016-01-01</td>\n",
       "      <td>расч т заработн плат отчислен налог обработк п...</td>\n",
       "    </tr>\n",
       "    <tr>\n",
       "      <th>10</th>\n",
       "      <td>0</td>\n",
       "      <td>44833.370096</td>\n",
       "      <td>2200039</td>\n",
       "      <td>0</td>\n",
       "      <td>280</td>\n",
       "      <td>83906</td>\n",
       "      <td>бухгалтер</td>\n",
       "      <td>ООО Рем ЭКО</td>\n",
       "      <td>NaN</td>\n",
       "      <td>&lt;p&gt;Банк клиент, расчет заработной платы , сост...</td>\n",
       "      <td>2011-01-01</td>\n",
       "      <td>2014-06-01</td>\n",
       "      <td>банк клиент расчет заработн плат составлен отч...</td>\n",
       "    </tr>\n",
       "    <tr>\n",
       "      <th>11</th>\n",
       "      <td>0</td>\n",
       "      <td>44833.370096</td>\n",
       "      <td>2200039</td>\n",
       "      <td>0</td>\n",
       "      <td>280</td>\n",
       "      <td>83906</td>\n",
       "      <td>бухгалтер</td>\n",
       "      <td>ГБУ ЖИЛИЩНИК ВЫХИНО</td>\n",
       "      <td>NaN</td>\n",
       "      <td>&lt;p&gt;Расчет заработной платы сотрудникам, состав...</td>\n",
       "      <td>2014-06-01</td>\n",
       "      <td>NaN</td>\n",
       "      <td>расчет заработн плат сотрудник составлен отчет...</td>\n",
       "    </tr>\n",
       "    <tr>\n",
       "      <th>12</th>\n",
       "      <td>0</td>\n",
       "      <td>44833.370096</td>\n",
       "      <td>2200039</td>\n",
       "      <td>0</td>\n",
       "      <td>280</td>\n",
       "      <td>83906</td>\n",
       "      <td>NaN</td>\n",
       "      <td>ООО ППК АКВА</td>\n",
       "      <td>NaN</td>\n",
       "      <td>&lt;p&gt;Банк -клиент, материальные запасы, расчет з...</td>\n",
       "      <td>2005-12-01</td>\n",
       "      <td>2010-12-01</td>\n",
       "      <td>банк клиент материальн запас расчет заработн п...</td>\n",
       "    </tr>\n",
       "    <tr>\n",
       "      <th>13</th>\n",
       "      <td>0</td>\n",
       "      <td>44833.370096</td>\n",
       "      <td>2200039</td>\n",
       "      <td>0</td>\n",
       "      <td>312</td>\n",
       "      <td>34608</td>\n",
       "      <td>Бухгалтер 1 категории по учету заработной платы</td>\n",
       "      <td>МКУ \"Управление по ОФХДОУ\"</td>\n",
       "      <td>NaN</td>\n",
       "      <td>&lt;p&gt;Расчет заработной платы, сдача отчетности&lt;/...</td>\n",
       "      <td>2017-08-01</td>\n",
       "      <td>NaN</td>\n",
       "      <td>расчет заработн плат сдач отчетн</td>\n",
       "    </tr>\n",
       "    <tr>\n",
       "      <th>14</th>\n",
       "      <td>0</td>\n",
       "      <td>44833.370096</td>\n",
       "      <td>2200039</td>\n",
       "      <td>0</td>\n",
       "      <td>397</td>\n",
       "      <td>44160</td>\n",
       "      <td>Техник</td>\n",
       "      <td>АО \"Тюменьэнерго\" Нижневартовские электрически...</td>\n",
       "      <td>NaN</td>\n",
       "      <td>&lt;ul&gt;&lt;li&gt;подготовка данных для начисления зараб...</td>\n",
       "      <td>2014-06-01</td>\n",
       "      <td>2018-01-01</td>\n",
       "      <td>подготовк дан начислен заработн плат учет рабо...</td>\n",
       "    </tr>\n",
       "  </tbody>\n",
       "</table>\n",
       "</div>"
      ],
      "text/plain": [
       "    cluster   salary_mean  salary_max  salary_min   id  salary  \\\n",
       "0         0  44833.370096     2200039           0   40   50000   \n",
       "1         0  44833.370096     2200039           0   40   50000   \n",
       "2         0  44833.370096     2200039           0   40   50000   \n",
       "3         0  44833.370096     2200039           0   40   50000   \n",
       "4         0  44833.370096     2200039           0   40   50000   \n",
       "5         0  44833.370096     2200039           0   40   50000   \n",
       "6         0  44833.370096     2200039           0   44   55200   \n",
       "7         0  44833.370096     2200039           0  194   22836   \n",
       "8         0  44833.370096     2200039           0  194   22836   \n",
       "9         0  44833.370096     2200039           0  236   36330   \n",
       "10        0  44833.370096     2200039           0  280   83906   \n",
       "11        0  44833.370096     2200039           0  280   83906   \n",
       "12        0  44833.370096     2200039           0  280   83906   \n",
       "13        0  44833.370096     2200039           0  312   34608   \n",
       "14        0  44833.370096     2200039           0  397   44160   \n",
       "\n",
       "                                           position  \\\n",
       "0                                         бухгалтер   \n",
       "1           Генеральный директор(главный бухгалтер)   \n",
       "2                                 Главный бухгалтер   \n",
       "3                           зам.главного бухгалтера   \n",
       "4                           зам.главного бухгалтера   \n",
       "5                   заместитель главного бухгалтера   \n",
       "6     Инженер отдела защиты объемов и договоров ТЭР   \n",
       "7                                         Бухгалтер   \n",
       "8                                         Бухгалтер   \n",
       "9                                         Бухгалтер   \n",
       "10                                        бухгалтер   \n",
       "11                                        бухгалтер   \n",
       "12                                              NaN   \n",
       "13  Бухгалтер 1 категории по учету заработной платы   \n",
       "14                                           Техник   \n",
       "\n",
       "                                             employer achievements  \\\n",
       "0                                           ООО \"ТИС\"          NaN   \n",
       "1                                       ООО \"ПесКарь\"          NaN   \n",
       "2                                     ООО \"СК Алесио\"          NaN   \n",
       "3                                 ООО \"АкваТехСервис\"          NaN   \n",
       "4                                       ООО \"МЖСтрой\"          NaN   \n",
       "5                                         ООО \"КРАФТ\"          NaN   \n",
       "6                                     ГУП \"ЖКХ РС(Я)\"          NaN   \n",
       "7                                 ООО \"Кубань-Баланс\"          NaN   \n",
       "8                                       ООО \" Баланс\"          NaN   \n",
       "9                                         ТСЖ \"ИНТЕР\"          NaN   \n",
       "10                                        ООО Рем ЭКО          NaN   \n",
       "11                                ГБУ ЖИЛИЩНИК ВЫХИНО          NaN   \n",
       "12                                       ООО ППК АКВА          NaN   \n",
       "13                         МКУ \"Управление по ОФХДОУ\"          NaN   \n",
       "14  АО \"Тюменьэнерго\" Нижневартовские электрически...          NaN   \n",
       "\n",
       "                                     responsibilities  start_date finish_date  \\\n",
       "0   <ul><li>Ведение бухгалтерского и налогового уч...  2017-10-01  2018-01-01   \n",
       "1   <ul><li>Ведение бухгалтерского и налогового уч...  2016-07-01  2017-10-01   \n",
       "2   <ul><li>Ведение бухгалтерского и налогового уч...  2004-01-01  2012-04-01   \n",
       "3   <ul><li>Ведение бухгалтерского и налогового уч...  2012-07-01  2015-03-01   \n",
       "4   <ul><li>Ведение бухгалтерского и налогового уч...  2015-03-01  2016-06-01   \n",
       "5   <ul><li>Ведение бухгалтерского и налогового уч...  2018-02-01  2020-05-01   \n",
       "6                   <p>Расчет потерь в теплосетях</p>  2003-09-01  2005-02-01   \n",
       "7   <p>Консультирование, работа в 1С 8.3 (банк, ка...  2015-11-01  2019-05-01   \n",
       "8   <p>Ведение ИП (аутсорсинг), формирование отчет...  2011-02-01  2014-06-01   \n",
       "9   Расчёт заработной платы, отчисление налогов, о...  2015-09-01  2016-01-01   \n",
       "10  <p>Банк клиент, расчет заработной платы , сост...  2011-01-01  2014-06-01   \n",
       "11  <p>Расчет заработной платы сотрудникам, состав...  2014-06-01         NaN   \n",
       "12  <p>Банк -клиент, материальные запасы, расчет з...  2005-12-01  2010-12-01   \n",
       "13  <p>Расчет заработной платы, сдача отчетности</...  2017-08-01         NaN   \n",
       "14  <ul><li>подготовка данных для начисления зараб...  2014-06-01  2018-01-01   \n",
       "\n",
       "                                                 text  \n",
       "0   веден бухгалтерск налогов учет осн услуг расче...  \n",
       "1   веден бухгалтерск налогов учет полн объем осн ...  \n",
       "2   веден бухгалтерск налогов учет полн объем осн ...  \n",
       "3   веден бухгалтерск налогов учет полн объем енвд...  \n",
       "4   веден бухгалтерск налогов учет полн объем осн ...  \n",
       "5   веден бухгалтерск налогов учет полн объем усн ...  \n",
       "6                              расчет потер теплосет   \n",
       "7   консультирован работ банк касс накладн авансов...  \n",
       "8   веден ип аутсорсинг формирован отчетн акт счет...  \n",
       "9   расч т заработн плат отчислен налог обработк п...  \n",
       "10  банк клиент расчет заработн плат составлен отч...  \n",
       "11  расчет заработн плат сотрудник составлен отчет...  \n",
       "12  банк клиент материальн запас расчет заработн п...  \n",
       "13                  расчет заработн плат сдач отчетн   \n",
       "14  подготовк дан начислен заработн плат учет рабо...  "
      ]
     },
     "execution_count": 154,
     "metadata": {},
     "output_type": "execute_result"
    }
   ],
   "source": [
    "train_salary_cluster_agg = pd.merge(salary_by_cluster, train_salary_cluster)\n",
    "train_salary_cluster_agg.head(15)"
   ]
  },
  {
   "cell_type": "code",
   "execution_count": 155,
   "metadata": {
    "scrolled": true
   },
   "outputs": [],
   "source": [
    "test_salary_cluster_agg = pd.merge(salary_by_cluster, test_salary_cluster)\n",
    "# test_salary_cluster[test_salary_cluster.cluster==6]"
   ]
  },
  {
   "cell_type": "code",
   "execution_count": 158,
   "metadata": {
    "scrolled": true
   },
   "outputs": [
    {
     "data": {
      "text/html": [
       "<div>\n",
       "<style scoped>\n",
       "    .dataframe tbody tr th:only-of-type {\n",
       "        vertical-align: middle;\n",
       "    }\n",
       "\n",
       "    .dataframe tbody tr th {\n",
       "        vertical-align: top;\n",
       "    }\n",
       "\n",
       "    .dataframe thead th {\n",
       "        text-align: right;\n",
       "    }\n",
       "</style>\n",
       "<table border=\"1\" class=\"dataframe\">\n",
       "  <thead>\n",
       "    <tr style=\"text-align: right;\">\n",
       "      <th></th>\n",
       "      <th>id</th>\n",
       "      <th>position</th>\n",
       "      <th>employer</th>\n",
       "      <th>achievements</th>\n",
       "      <th>responsibilities</th>\n",
       "      <th>start_date</th>\n",
       "      <th>finish_date</th>\n",
       "      <th>text</th>\n",
       "      <th>cluster</th>\n",
       "    </tr>\n",
       "  </thead>\n",
       "  <tbody>\n",
       "    <tr>\n",
       "      <th>154</th>\n",
       "      <td>250</td>\n",
       "      <td>Старший продавец</td>\n",
       "      <td>ООО МОЙДОДЫР КУРСК</td>\n",
       "      <td>NaN</td>\n",
       "      <td>&lt;p&gt;&lt;span style=\"text-decoration: underline,\"&gt;&lt;...</td>\n",
       "      <td>2016-03-01</td>\n",
       "      <td>2020-07-01</td>\n",
       "      <td>при выкладк реализац товар веден документац</td>\n",
       "      <td>8</td>\n",
       "    </tr>\n",
       "    <tr>\n",
       "      <th>251</th>\n",
       "      <td>402</td>\n",
       "      <td>Начальник станции 3 класса</td>\n",
       "      <td>Филиал АО \"НК \"КТЖ\"-\"Павлодарское отделение до...</td>\n",
       "      <td>NaN</td>\n",
       "      <td>&lt;p&gt;Руководство работой железнодорожной станции...</td>\n",
       "      <td>2012-12-01</td>\n",
       "      <td>2015-03-01</td>\n",
       "      <td>руководств работ железнодорожн станц веден док...</td>\n",
       "      <td>8</td>\n",
       "    </tr>\n",
       "    <tr>\n",
       "      <th>252</th>\n",
       "      <td>402</td>\n",
       "      <td>Исполняющий обязанности начальника станции</td>\n",
       "      <td>Филиал АО \"НК \"КТЖ\"-\"Павлодарское отделение до...</td>\n",
       "      <td>NaN</td>\n",
       "      <td>&lt;p&gt;Руководство работой железнодорожной станции...</td>\n",
       "      <td>2012-02-01</td>\n",
       "      <td>2012-12-01</td>\n",
       "      <td>руководств работ железнодорожн станц веден док...</td>\n",
       "      <td>8</td>\n",
       "    </tr>\n",
       "    <tr>\n",
       "      <th>253</th>\n",
       "      <td>402</td>\n",
       "      <td>инженер по охране труда и технике безопасности</td>\n",
       "      <td>ГКП на ПХВ Теплосервис</td>\n",
       "      <td>NaN</td>\n",
       "      <td>&lt;p&gt;Контроль соблюдения ОХТ и ТБ на предприятии...</td>\n",
       "      <td>2008-12-01</td>\n",
       "      <td>2009-09-01</td>\n",
       "      <td>контрол соблюден охт тб предприят внесен предл...</td>\n",
       "      <td>8</td>\n",
       "    </tr>\n",
       "    <tr>\n",
       "      <th>270</th>\n",
       "      <td>442</td>\n",
       "      <td>Водитель - экспедитор</td>\n",
       "      <td>ООО\"ЙОНАС СПБ\"</td>\n",
       "      <td>NaN</td>\n",
       "      <td>&lt;p&gt;Развозка продукции по продуктовым магазинам...</td>\n",
       "      <td>2019-09-01</td>\n",
       "      <td>2020-02-01</td>\n",
       "      <td>развозк продукц продуктов магазин веден докуме...</td>\n",
       "      <td>8</td>\n",
       "    </tr>\n",
       "    <tr>\n",
       "      <th>...</th>\n",
       "      <td>...</td>\n",
       "      <td>...</td>\n",
       "      <td>...</td>\n",
       "      <td>...</td>\n",
       "      <td>...</td>\n",
       "      <td>...</td>\n",
       "      <td>...</td>\n",
       "      <td>...</td>\n",
       "      <td>...</td>\n",
       "    </tr>\n",
       "    <tr>\n",
       "      <th>265801</th>\n",
       "      <td>435175</td>\n",
       "      <td>Бухгалтер</td>\n",
       "      <td>ООО империя</td>\n",
       "      <td>NaN</td>\n",
       "      <td>&lt;p&gt;Ведение документации&lt;/p&gt;</td>\n",
       "      <td>2017-05-01</td>\n",
       "      <td>2018-03-01</td>\n",
       "      <td>веден документац</td>\n",
       "      <td>8</td>\n",
       "    </tr>\n",
       "    <tr>\n",
       "      <th>265810</th>\n",
       "      <td>435188</td>\n",
       "      <td>Руководитель технической службы</td>\n",
       "      <td>ООО НОВГОРОДСКИЙ БЕКОН</td>\n",
       "      <td>&lt;p&gt;Повышение в должности&lt;/p&gt;</td>\n",
       "      <td>&lt;p&gt;Ведение документации, контроль исполнения р...</td>\n",
       "      <td>2019-09-01</td>\n",
       "      <td>2020-04-01</td>\n",
       "      <td>веден документац контрол исполнен работ предпр...</td>\n",
       "      <td>8</td>\n",
       "    </tr>\n",
       "    <tr>\n",
       "      <th>266626</th>\n",
       "      <td>436506</td>\n",
       "      <td>кредитный экспер</td>\n",
       "      <td>ЗАО \"БНП ПАРИБА Банк\"</td>\n",
       "      <td>NaN</td>\n",
       "      <td>&lt;p&gt;работа по привлеченю клиентов, формление до...</td>\n",
       "      <td>2010-05-01</td>\n",
       "      <td>2012-07-01</td>\n",
       "      <td>работ привлечен клиент формлен договор веден д...</td>\n",
       "      <td>8</td>\n",
       "    </tr>\n",
       "    <tr>\n",
       "      <th>266628</th>\n",
       "      <td>436506</td>\n",
       "      <td>старший специалист по привлечению клиентов</td>\n",
       "      <td>оао банк \"Открытие\"</td>\n",
       "      <td>NaN</td>\n",
       "      <td>&lt;p&gt;работа по привлеченю клиентов, формление до...</td>\n",
       "      <td>2012-11-01</td>\n",
       "      <td>2015-01-01</td>\n",
       "      <td>работ привлечен клиент формлен договор веден д...</td>\n",
       "      <td>8</td>\n",
       "    </tr>\n",
       "    <tr>\n",
       "      <th>267212</th>\n",
       "      <td>437412</td>\n",
       "      <td>Документовед (оператор)</td>\n",
       "      <td>НОУ ВПО \" Московский технологический институт\"</td>\n",
       "      <td>&lt;p&gt;&amp;nbsp, &amp;nbsp,&lt;/p&gt;</td>\n",
       "      <td>&lt;p&gt;&lt;strong&gt;Регистрация абитуриентов для поступ...</td>\n",
       "      <td>2008-09-01</td>\n",
       "      <td>2010-09-01</td>\n",
       "      <td>регистрац абитуриент поступлен вуз веден докум...</td>\n",
       "      <td>8</td>\n",
       "    </tr>\n",
       "  </tbody>\n",
       "</table>\n",
       "<p>1273 rows × 9 columns</p>\n",
       "</div>"
      ],
      "text/plain": [
       "            id                                        position  \\\n",
       "154        250                                Старший продавец   \n",
       "251        402                      Начальник станции 3 класса   \n",
       "252        402      Исполняющий обязанности начальника станции   \n",
       "253        402  инженер по охране труда и технике безопасности   \n",
       "270        442                           Водитель - экспедитор   \n",
       "...        ...                                             ...   \n",
       "265801  435175                                       Бухгалтер   \n",
       "265810  435188                 Руководитель технической службы   \n",
       "266626  436506                                кредитный экспер   \n",
       "266628  436506      старший специалист по привлечению клиентов   \n",
       "267212  437412                         Документовед (оператор)   \n",
       "\n",
       "                                                 employer  \\\n",
       "154                                    ООО МОЙДОДЫР КУРСК   \n",
       "251     Филиал АО \"НК \"КТЖ\"-\"Павлодарское отделение до...   \n",
       "252     Филиал АО \"НК \"КТЖ\"-\"Павлодарское отделение до...   \n",
       "253                                ГКП на ПХВ Теплосервис   \n",
       "270                                        ООО\"ЙОНАС СПБ\"   \n",
       "...                                                   ...   \n",
       "265801                                        ООО империя   \n",
       "265810                             ООО НОВГОРОДСКИЙ БЕКОН   \n",
       "266626                              ЗАО \"БНП ПАРИБА Банк\"   \n",
       "266628                                оао банк \"Открытие\"   \n",
       "267212     НОУ ВПО \" Московский технологический институт\"   \n",
       "\n",
       "                        achievements  \\\n",
       "154                              NaN   \n",
       "251                              NaN   \n",
       "252                              NaN   \n",
       "253                              NaN   \n",
       "270                              NaN   \n",
       "...                              ...   \n",
       "265801                           NaN   \n",
       "265810  <p>Повышение в должности</p>   \n",
       "266626                           NaN   \n",
       "266628                           NaN   \n",
       "267212          <p>&nbsp, &nbsp,</p>   \n",
       "\n",
       "                                         responsibilities  start_date  \\\n",
       "154     <p><span style=\"text-decoration: underline,\"><...  2016-03-01   \n",
       "251     <p>Руководство работой железнодорожной станции...  2012-12-01   \n",
       "252     <p>Руководство работой железнодорожной станции...  2012-02-01   \n",
       "253     <p>Контроль соблюдения ОХТ и ТБ на предприятии...  2008-12-01   \n",
       "270     <p>Развозка продукции по продуктовым магазинам...  2019-09-01   \n",
       "...                                                   ...         ...   \n",
       "265801                        <p>Ведение документации</p>  2017-05-01   \n",
       "265810  <p>Ведение документации, контроль исполнения р...  2019-09-01   \n",
       "266626  <p>работа по привлеченю клиентов, формление до...  2010-05-01   \n",
       "266628  <p>работа по привлеченю клиентов, формление до...  2012-11-01   \n",
       "267212  <p><strong>Регистрация абитуриентов для поступ...  2008-09-01   \n",
       "\n",
       "       finish_date                                               text  cluster  \n",
       "154     2020-07-01       при выкладк реализац товар веден документац         8  \n",
       "251     2015-03-01  руководств работ железнодорожн станц веден док...        8  \n",
       "252     2012-12-01  руководств работ железнодорожн станц веден док...        8  \n",
       "253     2009-09-01  контрол соблюден охт тб предприят внесен предл...        8  \n",
       "270     2020-02-01  развозк продукц продуктов магазин веден докуме...        8  \n",
       "...            ...                                                ...      ...  \n",
       "265801  2018-03-01                                  веден документац         8  \n",
       "265810  2020-04-01  веден документац контрол исполнен работ предпр...        8  \n",
       "266626  2012-07-01  работ привлечен клиент формлен договор веден д...        8  \n",
       "266628  2015-01-01  работ привлечен клиент формлен договор веден д...        8  \n",
       "267212  2010-09-01  регистрац абитуриент поступлен вуз веден докум...        8  \n",
       "\n",
       "[1273 rows x 9 columns]"
      ]
     },
     "execution_count": 158,
     "metadata": {},
     "output_type": "execute_result"
    }
   ],
   "source": [
    "test_salary_cluster[test_salary_cluster.cluster==8]"
   ]
  },
  {
   "cell_type": "code",
   "execution_count": 159,
   "metadata": {},
   "outputs": [],
   "source": [
    "# у одного id может быть несколько кластеров в зависимости от опыта работы (несколько строк в employments_mult.csv)\n",
    "# оставим только наиболее частый кластер для этого id и соответствую кластеру среднюю, мин, макс зп"
   ]
  },
  {
   "cell_type": "code",
   "execution_count": 173,
   "metadata": {},
   "outputs": [],
   "source": [
    "ids_with_cluster = train_salary_cluster_agg.groupby(['id'], as_index=False)['cluster'].agg(pd.Series.mode)['id']\n",
    "\n",
    "test_ids_with_cluster = test_salary_cluster_agg.groupby(['id'], as_index=False)['cluster'].agg(pd.Series.mode)['id']"
   ]
  },
  {
   "cell_type": "code",
   "execution_count": null,
   "metadata": {},
   "outputs": [],
   "source": []
  },
  {
   "cell_type": "code",
   "execution_count": 169,
   "metadata": {},
   "outputs": [],
   "source": [
    "tr_mode_cluster = train_salary_cluster_agg.groupby(['id'], as_index=False).agg(\n",
    "                                cluster_mode  = ('cluster', lambda x: x.value_counts().index[0])\n",
    "                                      )"
   ]
  },
  {
   "cell_type": "code",
   "execution_count": 170,
   "metadata": {},
   "outputs": [],
   "source": [
    "tr_mode_cluster['id'] = ids_with_cluster"
   ]
  },
  {
   "cell_type": "code",
   "execution_count": 175,
   "metadata": {},
   "outputs": [],
   "source": [
    "test_mode_cluster = test_salary_cluster_agg.groupby(['id'], as_index=False).agg(\n",
    "                                cluster_mode  = ('cluster', lambda x: x.value_counts().index[0])\n",
    "                                      )"
   ]
  },
  {
   "cell_type": "code",
   "execution_count": 176,
   "metadata": {},
   "outputs": [],
   "source": [
    "test_mode_cluster['id'] =  test_ids_with_cluster"
   ]
  },
  {
   "cell_type": "code",
   "execution_count": 177,
   "metadata": {},
   "outputs": [
    {
     "data": {
      "text/plain": [
       "((240443, 2), (102912, 2))"
      ]
     },
     "execution_count": 177,
     "metadata": {},
     "output_type": "execute_result"
    }
   ],
   "source": [
    "tr_mode_cluster.shape, test_mode_cluster.shape"
   ]
  },
  {
   "cell_type": "code",
   "execution_count": 180,
   "metadata": {},
   "outputs": [],
   "source": [
    "tr_mode_cluster.columns = ['cluster', 'id']\n",
    "test_mode_cluster.columns = ['cluster', 'id']"
   ]
  },
  {
   "cell_type": "code",
   "execution_count": 185,
   "metadata": {},
   "outputs": [],
   "source": [
    "# возьмем соответствую кластеру среднюю, мин, макс зп\n",
    "\n",
    "tr_sal = pd.merge(salary_by_cluster, tr_mode_cluster)\n",
    "test_sal = pd.merge(salary_by_cluster, test_mode_cluster)\n",
    "\n",
    "# pd.merge(salary_by_cluster, test_mode_cluster)"
   ]
  },
  {
   "cell_type": "code",
   "execution_count": null,
   "metadata": {},
   "outputs": [],
   "source": []
  },
  {
   "cell_type": "code",
   "execution_count": null,
   "metadata": {},
   "outputs": [],
   "source": []
  },
  {
   "cell_type": "code",
   "execution_count": 191,
   "metadata": {},
   "outputs": [],
   "source": [
    "train_v8 = pd.read_csv('train_v8.csv')\n",
    "test_v8 = pd.read_csv('test_v8.csv')"
   ]
  },
  {
   "cell_type": "code",
   "execution_count": 192,
   "metadata": {},
   "outputs": [
    {
     "data": {
      "text/plain": [
       "((306270, 122), (131259, 121), (240443, 5), (102912, 5))"
      ]
     },
     "execution_count": 192,
     "metadata": {},
     "output_type": "execute_result"
    }
   ],
   "source": [
    "train_v8.shape, test_v8.shape, tr_sal.shape, test_sal.shape"
   ]
  },
  {
   "cell_type": "code",
   "execution_count": 198,
   "metadata": {},
   "outputs": [],
   "source": [
    "final_train = pd.merge(train_v8, tr_sal, how='left',on='id')"
   ]
  },
  {
   "cell_type": "code",
   "execution_count": 199,
   "metadata": {},
   "outputs": [],
   "source": [
    "final_test = pd.merge(test_v8, test_sal, how='left', on='id')"
   ]
  },
  {
   "cell_type": "code",
   "execution_count": 209,
   "metadata": {},
   "outputs": [],
   "source": [
    "for i in final_train[['salary_mean','salary_max', 'salary_min']].columns:\n",
    "    final_train[i].fillna(final_train[i].median(), inplace=True)"
   ]
  },
  {
   "cell_type": "code",
   "execution_count": 210,
   "metadata": {},
   "outputs": [],
   "source": [
    "for i in final_test[['salary_mean','salary_max', 'salary_min']].columns:\n",
    "    final_test[i].fillna(final_test[i].median(), inplace=True)"
   ]
  },
  {
   "cell_type": "code",
   "execution_count": 211,
   "metadata": {},
   "outputs": [],
   "source": [
    "final_train['cluster'].fillna(50, inplace=True)\n",
    "final_test['cluster'].fillna(50, inplace=True)"
   ]
  },
  {
   "cell_type": "code",
   "execution_count": 212,
   "metadata": {},
   "outputs": [
    {
     "data": {
      "text/plain": [
       "id                               0\n",
       "grammar_mistakes_per_cent        0\n",
       "Avr2019                      50845\n",
       "Avr2020                      50845\n",
       "create_year                      7\n",
       "                             ...  \n",
       "completeness_rate                0\n",
       "cluster                          0\n",
       "salary_mean                      0\n",
       "salary_max                       0\n",
       "salary_min                       0\n",
       "Length: 126, dtype: int64"
      ]
     },
     "execution_count": 212,
     "metadata": {},
     "output_type": "execute_result"
    }
   ],
   "source": [
    "final_train.isna().sum()"
   ]
  },
  {
   "cell_type": "code",
   "execution_count": 213,
   "metadata": {},
   "outputs": [],
   "source": [
    "final_train.to_csv('train_v10.csv',index=False)\n",
    "final_test.to_csv('test_v10.csv',index=False)"
   ]
  },
  {
   "cell_type": "code",
   "execution_count": null,
   "metadata": {},
   "outputs": [],
   "source": []
  },
  {
   "cell_type": "code",
   "execution_count": null,
   "metadata": {},
   "outputs": [],
   "source": []
  },
  {
   "cell_type": "code",
   "execution_count": null,
   "metadata": {},
   "outputs": [],
   "source": []
  }
 ],
 "metadata": {
  "kernelspec": {
   "display_name": "Python 3",
   "language": "python",
   "name": "python3"
  },
  "language_info": {
   "codemirror_mode": {
    "name": "ipython",
    "version": 3
   },
   "file_extension": ".py",
   "mimetype": "text/x-python",
   "name": "python",
   "nbconvert_exporter": "python",
   "pygments_lexer": "ipython3",
   "version": "3.7.9"
  }
 },
 "nbformat": 4,
 "nbformat_minor": 4
}
