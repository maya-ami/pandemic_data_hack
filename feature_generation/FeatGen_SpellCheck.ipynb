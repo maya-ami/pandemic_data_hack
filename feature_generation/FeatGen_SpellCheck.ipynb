{
 "cells": [
  {
   "cell_type": "code",
   "execution_count": 102,
   "metadata": {},
   "outputs": [],
   "source": [
    "import nltk, re\n",
    "from nltk.corpus import stopwords"
   ]
  },
  {
   "cell_type": "markdown",
   "metadata": {},
   "source": [
    "### Проверка орфографии\n",
    "\n",
    "1. Название должности/позиции (% грамотности в названии должности)"
   ]
  },
  {
   "cell_type": "code",
   "execution_count": 1,
   "metadata": {},
   "outputs": [],
   "source": [
    "import re\n",
    "import pandas as pd\n",
    "import enchant\n",
    "from enchant.checker import SpellChecker\n",
    "from nltk.tokenize import ToktokTokenizer\n",
    "\n",
    "# инициализируем словари\n",
    "d_ru = enchant.DictWithPWL('ru')\n",
    "\n",
    "#инициализируем токенайзер\n",
    "toktok = ToktokTokenizer()"
   ]
  },
  {
   "cell_type": "code",
   "execution_count": 2,
   "metadata": {},
   "outputs": [
    {
     "name": "stderr",
     "output_type": "stream",
     "text": [
      "C:\\Users\\BikmetovaMR\\Anaconda3\\envs\\py37\\lib\\site-packages\\IPython\\core\\interactiveshell.py:2714: DtypeWarning: Columns (18) have mixed types. Specify dtype option on import or set low_memory=False.\n",
      "  interactivity=interactivity, compiler=compiler, result=result)\n"
     ]
    }
   ],
   "source": [
    "train = pd.read_csv('train.csv', sep=';')\n",
    "test = pd.read_csv('test.csv', sep=';')"
   ]
  },
  {
   "cell_type": "code",
   "execution_count": 3,
   "metadata": {},
   "outputs": [
    {
     "data": {
      "text/plain": [
       "((306270, 25), (131259, 24))"
      ]
     },
     "execution_count": 3,
     "metadata": {},
     "output_type": "execute_result"
    }
   ],
   "source": [
    "train.shape, test.shape"
   ]
  },
  {
   "cell_type": "code",
   "execution_count": null,
   "metadata": {},
   "outputs": [],
   "source": []
  },
  {
   "cell_type": "code",
   "execution_count": 20,
   "metadata": {},
   "outputs": [],
   "source": [
    "def spell_check_position(line):\n",
    "    char_regex = re.compile(r'[^а-яa-z]')\n",
    "    line = char_regex.sub(' ', line.lower())\n",
    "    \n",
    "    chkr_ru = SpellChecker(d_ru)\n",
    "    chkr_ru.set_text(line)\n",
    "    mistakes_ru = set([err.word for err in chkr_ru])\n",
    "    \n",
    "    \n",
    "    tokenized = toktok.tokenize(line)\n",
    "    num_mistakes=0\n",
    "    for i in tokenized:\n",
    "        if i in mistakes_ru:\n",
    "            num_mistakes+=1\n",
    "            \n",
    "    num_words = len(line.split(' '))\n",
    "    \n",
    "    grammar_rate = num_mistakes / num_words\n",
    "            \n",
    "    return grammar_rate"
   ]
  },
  {
   "cell_type": "code",
   "execution_count": 21,
   "metadata": {},
   "outputs": [
    {
     "name": "stdout",
     "output_type": "stream",
     "text": [
      "Wall time: 3min 30s\n"
     ]
    }
   ],
   "source": [
    "%%time\n",
    "train['grammar_per_cent'] = train['position'].apply(spell_check_position)"
   ]
  },
  {
   "cell_type": "code",
   "execution_count": 22,
   "metadata": {},
   "outputs": [
    {
     "name": "stdout",
     "output_type": "stream",
     "text": [
      "Wall time: 1min 28s\n"
     ]
    }
   ],
   "source": [
    "%%time\n",
    "test['grammar_per_cent'] = test['position'].apply(spell_check_position)"
   ]
  },
  {
   "cell_type": "code",
   "execution_count": 23,
   "metadata": {},
   "outputs": [],
   "source": [
    "train_v3 = pd.read_csv('train_v3.csv')\n",
    "test_v3 = pd.read_csv('test_v3.csv')"
   ]
  },
  {
   "cell_type": "code",
   "execution_count": 27,
   "metadata": {},
   "outputs": [],
   "source": [
    "train.rename(columns={\"grammar_per_cent\": \"grammar_mistakes_per_cent\"}, inplace=True)\n",
    "test.rename(columns={\"grammar_per_cent\": \"grammar_mistakes_per_cent\"}, inplace=True)"
   ]
  },
  {
   "cell_type": "code",
   "execution_count": 28,
   "metadata": {},
   "outputs": [
    {
     "data": {
      "text/plain": [
       "0.000000    279154\n",
       "0.500000      6258\n",
       "1.000000      5106\n",
       "0.333333      3094\n",
       "0.250000      2472\n",
       "             ...  \n",
       "0.875000         1\n",
       "0.161290         1\n",
       "0.217391         1\n",
       "0.004651         1\n",
       "0.228571         1\n",
       "Name: grammar_mistakes_per_cent, Length: 158, dtype: int64"
      ]
     },
     "execution_count": 28,
     "metadata": {},
     "output_type": "execute_result"
    }
   ],
   "source": [
    "train['grammar_mistakes_per_cent'].value_counts()"
   ]
  },
  {
   "cell_type": "code",
   "execution_count": 31,
   "metadata": {},
   "outputs": [],
   "source": [
    "pd.merge(train[['id', 'grammar_mistakes_per_cent']], train_v3).to_csv('train_v4.csv',index=False)"
   ]
  },
  {
   "cell_type": "code",
   "execution_count": 32,
   "metadata": {},
   "outputs": [],
   "source": [
    "pd.merge(test[['id', 'grammar_mistakes_per_cent']], test_v3).to_csv('test_v4.csv',index=False)"
   ]
  },
  {
   "cell_type": "code",
   "execution_count": null,
   "metadata": {},
   "outputs": [],
   "source": []
  },
  {
   "cell_type": "code",
   "execution_count": null,
   "metadata": {},
   "outputs": [],
   "source": []
  },
  {
   "cell_type": "markdown",
   "metadata": {},
   "source": [
    "### Фича - Образование - вуз или ссуз"
   ]
  },
  {
   "cell_type": "code",
   "execution_count": 34,
   "metadata": {},
   "outputs": [
    {
     "name": "stdout",
     "output_type": "stream",
     "text": [
      "education_type\n",
      "schedule\n"
     ]
    }
   ],
   "source": [
    "for col in train.columns:\n",
    "    if 'edu' in col:\n",
    "        print(col)"
   ]
  },
  {
   "cell_type": "code",
   "execution_count": 37,
   "metadata": {
    "scrolled": true
   },
   "outputs": [
    {
     "data": {
      "text/plain": [
       "0         Незаконченное высшее\n",
       "1                            3\n",
       "2                            3\n",
       "3                            3\n",
       "4                          NaN\n",
       "                  ...         \n",
       "306265                       2\n",
       "306266                       3\n",
       "306267                       3\n",
       "306268                       3\n",
       "306269                       2\n",
       "Name: education_type_le, Length: 306270, dtype: object"
      ]
     },
     "execution_count": 37,
     "metadata": {},
     "output_type": "execute_result"
    }
   ],
   "source": [
    "train_v3['education_type_le']"
   ]
  },
  {
   "cell_type": "code",
   "execution_count": null,
   "metadata": {},
   "outputs": [],
   "source": []
  },
  {
   "cell_type": "code",
   "execution_count": null,
   "metadata": {},
   "outputs": [],
   "source": []
  },
  {
   "cell_type": "code",
   "execution_count": null,
   "metadata": {},
   "outputs": [],
   "source": []
  },
  {
   "cell_type": "code",
   "execution_count": 53,
   "metadata": {},
   "outputs": [
    {
     "data": {
      "text/plain": [
       "(343328, 7)"
      ]
     },
     "execution_count": 53,
     "metadata": {},
     "output_type": "execute_result"
    }
   ],
   "source": [
    "empl = pd.read_csv('employements.csv',sep=';')\n",
    "empl.shape"
   ]
  },
  {
   "cell_type": "code",
   "execution_count": 73,
   "metadata": {},
   "outputs": [
    {
     "data": {
      "text/plain": [
       "343328"
      ]
     },
     "execution_count": 73,
     "metadata": {},
     "output_type": "execute_result"
    }
   ],
   "source": [
    "len(empl['id'].unique())"
   ]
  },
  {
   "cell_type": "code",
   "execution_count": 54,
   "metadata": {},
   "outputs": [
    {
     "data": {
      "text/plain": [
       "Index(['id', 'position', 'employer', 'achievements', 'responsibilities',\n",
       "       'start_date', 'finish_date'],\n",
       "      dtype='object')"
      ]
     },
     "execution_count": 54,
     "metadata": {},
     "output_type": "execute_result"
    }
   ],
   "source": [
    "empl.columns"
   ]
  },
  {
   "cell_type": "code",
   "execution_count": 60,
   "metadata": {},
   "outputs": [
    {
     "data": {
      "text/html": [
       "<div>\n",
       "<style scoped>\n",
       "    .dataframe tbody tr th:only-of-type {\n",
       "        vertical-align: middle;\n",
       "    }\n",
       "\n",
       "    .dataframe tbody tr th {\n",
       "        vertical-align: top;\n",
       "    }\n",
       "\n",
       "    .dataframe thead th {\n",
       "        text-align: right;\n",
       "    }\n",
       "</style>\n",
       "<table border=\"1\" class=\"dataframe\">\n",
       "  <thead>\n",
       "    <tr style=\"text-align: right;\">\n",
       "      <th></th>\n",
       "      <th>id</th>\n",
       "      <th>position</th>\n",
       "      <th>employer</th>\n",
       "      <th>achievements</th>\n",
       "      <th>responsibilities</th>\n",
       "      <th>start_date</th>\n",
       "      <th>finish_date</th>\n",
       "    </tr>\n",
       "  </thead>\n",
       "  <tbody>\n",
       "    <tr>\n",
       "      <th>0</th>\n",
       "      <td>0</td>\n",
       "      <td>NaN</td>\n",
       "      <td>ПАО \"МегаФон\"</td>\n",
       "      <td>NaN</td>\n",
       "      <td>&lt;p&gt;Консультирование клиентов по телефону. Прод...</td>\n",
       "      <td>2019-06-01</td>\n",
       "      <td>2020-04-01</td>\n",
       "    </tr>\n",
       "    <tr>\n",
       "      <th>1</th>\n",
       "      <td>1</td>\n",
       "      <td>Копирайтер/рерайтер</td>\n",
       "      <td>WorkHardOnline</td>\n",
       "      <td>NaN</td>\n",
       "      <td>&lt;p&gt;&lt;strong&gt;✑&lt;/strong&gt;&lt;strong&gt;Фриланс&lt;/strong&gt;&lt;...</td>\n",
       "      <td>2019-10-01</td>\n",
       "      <td>NaN</td>\n",
       "    </tr>\n",
       "    <tr>\n",
       "      <th>2</th>\n",
       "      <td>2</td>\n",
       "      <td>стажер</td>\n",
       "      <td>Комитет по управлению муниципальной собственно...</td>\n",
       "      <td>NaN</td>\n",
       "      <td>&lt;p&gt;Прохождение производственной практики (30.0...</td>\n",
       "      <td>2014-06-01</td>\n",
       "      <td>2014-07-01</td>\n",
       "    </tr>\n",
       "    <tr>\n",
       "      <th>3</th>\n",
       "      <td>3</td>\n",
       "      <td>Консультант</td>\n",
       "      <td>ПАО Почта Банк</td>\n",
       "      <td>NaN</td>\n",
       "      <td>&lt;p&gt;Работа с клиентами, оформление договоров&lt;/p&gt;</td>\n",
       "      <td>2016-04-01</td>\n",
       "      <td>NaN</td>\n",
       "    </tr>\n",
       "    <tr>\n",
       "      <th>4</th>\n",
       "      <td>4</td>\n",
       "      <td>Старший специалист по привлечению клиентов</td>\n",
       "      <td>ОАО Банк \"Открытие\"</td>\n",
       "      <td>&lt;p&gt;Расширила базу клиентов&lt;/p&gt;</td>\n",
       "      <td>&lt;p&gt;Обслуживание физических лиц, активное привл...</td>\n",
       "      <td>2011-07-01</td>\n",
       "      <td>2013-01-01</td>\n",
       "    </tr>\n",
       "  </tbody>\n",
       "</table>\n",
       "</div>"
      ],
      "text/plain": [
       "   id                                    position  \\\n",
       "0   0                                         NaN   \n",
       "1   1                         Копирайтер/рерайтер   \n",
       "2   2                                      стажер   \n",
       "3   3                                 Консультант   \n",
       "4   4  Старший специалист по привлечению клиентов   \n",
       "\n",
       "                                            employer  \\\n",
       "0                                      ПАО \"МегаФон\"   \n",
       "1                                     WorkHardOnline   \n",
       "2  Комитет по управлению муниципальной собственно...   \n",
       "3                                     ПАО Почта Банк   \n",
       "4                                ОАО Банк \"Открытие\"   \n",
       "\n",
       "                     achievements  \\\n",
       "0                             NaN   \n",
       "1                             NaN   \n",
       "2                             NaN   \n",
       "3                             NaN   \n",
       "4  <p>Расширила базу клиентов</p>   \n",
       "\n",
       "                                    responsibilities  start_date finish_date  \n",
       "0  <p>Консультирование клиентов по телефону. Прод...  2019-06-01  2020-04-01  \n",
       "1  <p><strong>✑</strong><strong>Фриланс</strong><...  2019-10-01         NaN  \n",
       "2  <p>Прохождение производственной практики (30.0...  2014-06-01  2014-07-01  \n",
       "3    <p>Работа с клиентами, оформление договоров</p>  2016-04-01         NaN  \n",
       "4  <p>Обслуживание физических лиц, активное привл...  2011-07-01  2013-01-01  "
      ]
     },
     "execution_count": 60,
     "metadata": {},
     "output_type": "execute_result"
    }
   ],
   "source": [
    "empl.head()"
   ]
  },
  {
   "cell_type": "code",
   "execution_count": 69,
   "metadata": {},
   "outputs": [
    {
     "data": {
      "text/plain": [
       "3086"
      ]
     },
     "execution_count": 69,
     "metadata": {},
     "output_type": "execute_result"
    }
   ],
   "source": [
    "# 3086 пропуски\n",
    "empl['achievements'].isna().sum()"
   ]
  },
  {
   "cell_type": "code",
   "execution_count": 113,
   "metadata": {},
   "outputs": [],
   "source": [
    "empl['ach_clean'] = empl['achievements'].apply(clean_text)"
   ]
  },
  {
   "cell_type": "code",
   "execution_count": 178,
   "metadata": {},
   "outputs": [],
   "source": [
    "def no_achievements(line):\n",
    "    if 'нет' in line or 'не им' in line or 'нет' in line or 'никак' in line or 'отсутств' in line\\\n",
    "    or 'увол по собствен желан' in line or 'не работа' in line or 'не был' in line or 'без достижен' in line:\n",
    "        return 'нет'\n",
    "    else:\n",
    "        return line"
   ]
  },
  {
   "cell_type": "code",
   "execution_count": 179,
   "metadata": {},
   "outputs": [],
   "source": [
    "empl['ach_clean_no'] = empl['ach_clean'].apply(no_achievements)"
   ]
  },
  {
   "cell_type": "code",
   "execution_count": 186,
   "metadata": {},
   "outputs": [],
   "source": [
    "def three_cat_achieve(line):\n",
    "    if line =='':\n",
    "        return 'empty'\n",
    "    elif line =='нет':\n",
    "        return 'no'\n",
    "    else:\n",
    "        return 'yes'"
   ]
  },
  {
   "cell_type": "code",
   "execution_count": 189,
   "metadata": {},
   "outputs": [],
   "source": [
    "empl['achievement'] = empl['ach_clean_no'].apply(three_cat_achieve)"
   ]
  },
  {
   "cell_type": "code",
   "execution_count": 192,
   "metadata": {},
   "outputs": [],
   "source": [
    "empl_achiev = pd.get_dummies(empl[['id','achievement']])"
   ]
  },
  {
   "cell_type": "code",
   "execution_count": 204,
   "metadata": {},
   "outputs": [
    {
     "data": {
      "text/html": [
       "<div>\n",
       "<style scoped>\n",
       "    .dataframe tbody tr th:only-of-type {\n",
       "        vertical-align: middle;\n",
       "    }\n",
       "\n",
       "    .dataframe tbody tr th {\n",
       "        vertical-align: top;\n",
       "    }\n",
       "\n",
       "    .dataframe thead th {\n",
       "        text-align: right;\n",
       "    }\n",
       "</style>\n",
       "<table border=\"1\" class=\"dataframe\">\n",
       "  <thead>\n",
       "    <tr style=\"text-align: right;\">\n",
       "      <th></th>\n",
       "      <th>id</th>\n",
       "      <th>achievement_empty</th>\n",
       "      <th>achievement_no</th>\n",
       "      <th>achievement_yes</th>\n",
       "    </tr>\n",
       "  </thead>\n",
       "  <tbody>\n",
       "    <tr>\n",
       "      <th>0</th>\n",
       "      <td>0</td>\n",
       "      <td>1</td>\n",
       "      <td>0</td>\n",
       "      <td>0</td>\n",
       "    </tr>\n",
       "    <tr>\n",
       "      <th>1</th>\n",
       "      <td>1</td>\n",
       "      <td>1</td>\n",
       "      <td>0</td>\n",
       "      <td>0</td>\n",
       "    </tr>\n",
       "    <tr>\n",
       "      <th>2</th>\n",
       "      <td>2</td>\n",
       "      <td>1</td>\n",
       "      <td>0</td>\n",
       "      <td>0</td>\n",
       "    </tr>\n",
       "    <tr>\n",
       "      <th>3</th>\n",
       "      <td>3</td>\n",
       "      <td>1</td>\n",
       "      <td>0</td>\n",
       "      <td>0</td>\n",
       "    </tr>\n",
       "    <tr>\n",
       "      <th>4</th>\n",
       "      <td>4</td>\n",
       "      <td>0</td>\n",
       "      <td>0</td>\n",
       "      <td>1</td>\n",
       "    </tr>\n",
       "    <tr>\n",
       "      <th>...</th>\n",
       "      <td>...</td>\n",
       "      <td>...</td>\n",
       "      <td>...</td>\n",
       "      <td>...</td>\n",
       "    </tr>\n",
       "    <tr>\n",
       "      <th>343323</th>\n",
       "      <td>437521</td>\n",
       "      <td>1</td>\n",
       "      <td>0</td>\n",
       "      <td>0</td>\n",
       "    </tr>\n",
       "    <tr>\n",
       "      <th>343324</th>\n",
       "      <td>437522</td>\n",
       "      <td>1</td>\n",
       "      <td>0</td>\n",
       "      <td>0</td>\n",
       "    </tr>\n",
       "    <tr>\n",
       "      <th>343325</th>\n",
       "      <td>437524</td>\n",
       "      <td>1</td>\n",
       "      <td>0</td>\n",
       "      <td>0</td>\n",
       "    </tr>\n",
       "    <tr>\n",
       "      <th>343326</th>\n",
       "      <td>437525</td>\n",
       "      <td>0</td>\n",
       "      <td>0</td>\n",
       "      <td>1</td>\n",
       "    </tr>\n",
       "    <tr>\n",
       "      <th>343327</th>\n",
       "      <td>437527</td>\n",
       "      <td>1</td>\n",
       "      <td>0</td>\n",
       "      <td>0</td>\n",
       "    </tr>\n",
       "  </tbody>\n",
       "</table>\n",
       "<p>343328 rows × 4 columns</p>\n",
       "</div>"
      ],
      "text/plain": [
       "            id  achievement_empty  achievement_no  achievement_yes\n",
       "0            0                  1               0                0\n",
       "1            1                  1               0                0\n",
       "2            2                  1               0                0\n",
       "3            3                  1               0                0\n",
       "4            4                  0               0                1\n",
       "...        ...                ...             ...              ...\n",
       "343323  437521                  1               0                0\n",
       "343324  437522                  1               0                0\n",
       "343325  437524                  1               0                0\n",
       "343326  437525                  0               0                1\n",
       "343327  437527                  1               0                0\n",
       "\n",
       "[343328 rows x 4 columns]"
      ]
     },
     "execution_count": 204,
     "metadata": {},
     "output_type": "execute_result"
    }
   ],
   "source": [
    "empl_achiev"
   ]
  },
  {
   "cell_type": "code",
   "execution_count": null,
   "metadata": {},
   "outputs": [],
   "source": []
  },
  {
   "cell_type": "code",
   "execution_count": null,
   "metadata": {},
   "outputs": [],
   "source": []
  },
  {
   "cell_type": "code",
   "execution_count": 221,
   "metadata": {},
   "outputs": [
    {
     "data": {
      "text/plain": [
       "((306270, 104), (131259, 104))"
      ]
     },
     "execution_count": 221,
     "metadata": {},
     "output_type": "execute_result"
    }
   ],
   "source": [
    "train_v6 = pd.read_csv('train_v6', sep=';')\n",
    "test_v6 = pd.read_csv('test_v6', sep=';')\n",
    "\n",
    "\n",
    "train_v6.shape, test_v6.shape"
   ]
  },
  {
   "cell_type": "code",
   "execution_count": 222,
   "metadata": {},
   "outputs": [],
   "source": [
    "train_achieve = pd.merge(train_v6, empl_achiev, how='left')"
   ]
  },
  {
   "cell_type": "code",
   "execution_count": 223,
   "metadata": {},
   "outputs": [],
   "source": [
    "test_achieve = pd.merge(test_v6, empl_achiev, how='left')"
   ]
  },
  {
   "cell_type": "code",
   "execution_count": null,
   "metadata": {},
   "outputs": [],
   "source": []
  },
  {
   "cell_type": "code",
   "execution_count": 231,
   "metadata": {},
   "outputs": [],
   "source": [
    "train_achieve.to_csv('train_v7.csv',index=False)"
   ]
  },
  {
   "cell_type": "code",
   "execution_count": 230,
   "metadata": {},
   "outputs": [],
   "source": [
    "test_achieve.to_csv('test_v7.csv',index=False)"
   ]
  },
  {
   "cell_type": "code",
   "execution_count": 226,
   "metadata": {},
   "outputs": [],
   "source": [
    "test_achieve['achievement_empty'].fillna(1,inplace=True)\n",
    "test_achieve['achievement_no'].fillna(0,inplace=True)\n",
    "test_achieve['achievement_yes'].fillna(0,inplace=True)"
   ]
  },
  {
   "cell_type": "code",
   "execution_count": 227,
   "metadata": {},
   "outputs": [],
   "source": [
    "train_achieve['achievement_empty'].fillna(1,inplace=True)\n",
    "train_achieve['achievement_no'].fillna(0,inplace=True)\n",
    "train_achieve['achievement_yes'].fillna(0,inplace=True)"
   ]
  },
  {
   "cell_type": "code",
   "execution_count": null,
   "metadata": {},
   "outputs": [],
   "source": []
  },
  {
   "cell_type": "code",
   "execution_count": null,
   "metadata": {},
   "outputs": [],
   "source": []
  },
  {
   "cell_type": "code",
   "execution_count": null,
   "metadata": {},
   "outputs": [],
   "source": []
  },
  {
   "cell_type": "code",
   "execution_count": null,
   "metadata": {},
   "outputs": [],
   "source": []
  },
  {
   "cell_type": "code",
   "execution_count": null,
   "metadata": {},
   "outputs": [],
   "source": []
  },
  {
   "cell_type": "code",
   "execution_count": null,
   "metadata": {},
   "outputs": [],
   "source": []
  },
  {
   "cell_type": "code",
   "execution_count": null,
   "metadata": {},
   "outputs": [],
   "source": []
  },
  {
   "cell_type": "code",
   "execution_count": 85,
   "metadata": {},
   "outputs": [
    {
     "data": {
      "text/plain": [
       "pandas.core.series.Series"
      ]
     },
     "execution_count": 85,
     "metadata": {},
     "output_type": "execute_result"
    }
   ],
   "source": [
    "empl['responsibilities']"
   ]
  },
  {
   "cell_type": "code",
   "execution_count": 109,
   "metadata": {},
   "outputs": [],
   "source": [
    "from nltk.stem.snowball import RussianStemmer\n",
    "from nltk.corpus import stopwords\n",
    "\n",
    "stopwords = stopwords.words('russian')\n",
    "\n",
    "toktok = ToktokTokenizer()\n",
    "stemmer = RussianStemmer()\n",
    "\n",
    "# text = re.sub('[^А-Яа-я]+', ' ', text)\n",
    "# all_words = nltk.tokenize.word_tokenize(text.lower())\n",
    "# all_words_no_stop = [w.lower() for w in all_words if w not in stopwords]\n",
    "# freq_dict = nltk.FreqDist(w.lower() for w in all_words if w not in stopwords)\n",
    "\n",
    "def clean_text(line):\n",
    "    char_regex = re.compile(r'[^а-яa-z]')\n",
    "    line = char_regex.sub(' ', str(line).lower())\n",
    "    \n",
    "    line = re.sub('[^А-Яа-я]+', ' ', line)\n",
    "#     all_words = nltk.tokenize.word_tokenize(line.lower())\n",
    "    tokenized = toktok.tokenize(line)\n",
    "    stemmed_str = ''\n",
    "    for i in tokenized:\n",
    "        stemmed = stemmer.stem(i)\n",
    "        stemmed_str += str(stemmed + ' ')\n",
    "    \n",
    "    return stemmed_str"
   ]
  },
  {
   "cell_type": "code",
   "execution_count": 110,
   "metadata": {},
   "outputs": [],
   "source": [
    "empl['resp_lower'] = empl['responsibilities'].apply(clean_text)"
   ]
  },
  {
   "cell_type": "code",
   "execution_count": 89,
   "metadata": {
    "scrolled": true
   },
   "outputs": [
    {
     "data": {
      "text/plain": [
       "<p>ведение кадрового делопроизводства</p>               46\n",
       "<p>работать</p>                                         46\n",
       "<p>продажи&nbsp,</p>                                    46\n",
       "<p>выполнение должностных обязанностей</p>              46\n",
       "<p>бухгалтерский учет</p>                               46\n",
       "<p>дворник</p>                                          45\n",
       "<p>оператор</p>                                         45\n",
       "<p>уход за больными</p>                                 45\n",
       "<p>управление автомобилем</p>                           44\n",
       "<p>охрана обьекта</p>                                   44\n",
       "<p>расследование уголовных дел</p>                      44\n",
       "<p>&nbsp,</p><p>&nbsp,</p>                              44\n",
       "<p>ремонт</p>                                           44\n",
       "<p>пошив одежды</p>                                     43\n",
       "работа с документами                                    43\n",
       "<p>продажа банковских продуктов</p>                     42\n",
       "<p>уборка номеров</p>                                   42\n",
       "<p>продажа продуктов питания</p>                        41\n",
       "<p>обслуживание покупателей на кассе</p>                41\n",
       "<p>сварка</p>                                           41\n",
       "<p>грузоперевозки</p>                                   41\n",
       "<p>слесарь</p>                                          41\n",
       "<p>продавец продовольственных товаров</p>               41\n",
       "<p>приготовление пищи.</p>                              40\n",
       "<p>работа за кассой</p>                                 40\n",
       "<p>продавец-консультант</p>                             40\n",
       "<p>перевозка пассажиров&nbsp,</p>                       40\n",
       "<p>ремонт электрооборудования</p>                       40\n",
       "<p>водитель-экспедитор</p>                              39\n",
       "<p>кадровое делопроизводство</p>                        39\n",
       "<p>административная работа</p>                          39\n",
       "<p>присмотр и уход за детьми</p>                        38\n",
       "<p>продавец&nbsp,</p>                                   38\n",
       "<p>продавец кассир</p>                                  37\n",
       "<p>кладовщик</p>                                        37\n",
       "<p>воспитание детей</p>                                 37\n",
       "<p>приготовление пищи&nbsp,</p>                         36\n",
       "<p>руководитель</p>                                     36\n",
       "<p>ответственность</p>                                  36\n",
       "<p>уборка служебных помещений&nbsp,</p>                 36\n",
       "<p>мытье посуды</p>                                     35\n",
       "<p>водитель экспедитор</p>                              35\n",
       "<p>охрана обьектов</p>                                  35\n",
       ".                                                       34\n",
       "<p>уборка производственных и служебных помещений</p>    34\n",
       "<p>--</p>                                               34\n",
       "<p>обслуживание посетителей</p>                         33\n",
       "<p>администратор</p>                                    33\n",
       "<p>охрана объекта&nbsp,</p>                             33\n",
       "<p>директор</p>                                         33\n",
       "Name: resp_lower, dtype: int64"
      ]
     },
     "execution_count": 89,
     "metadata": {},
     "output_type": "execute_result"
    }
   ],
   "source": [
    "empl['resp_lower'].value_counts()"
   ]
  },
  {
   "cell_type": "code",
   "execution_count": 100,
   "metadata": {},
   "outputs": [
    {
     "data": {
      "text/html": [
       "<div>\n",
       "<style scoped>\n",
       "    .dataframe tbody tr th:only-of-type {\n",
       "        vertical-align: middle;\n",
       "    }\n",
       "\n",
       "    .dataframe tbody tr th {\n",
       "        vertical-align: top;\n",
       "    }\n",
       "\n",
       "    .dataframe thead th {\n",
       "        text-align: right;\n",
       "    }\n",
       "</style>\n",
       "<table border=\"1\" class=\"dataframe\">\n",
       "  <thead>\n",
       "    <tr style=\"text-align: right;\">\n",
       "      <th></th>\n",
       "      <th>id</th>\n",
       "      <th>resp_lower</th>\n",
       "      <th>position</th>\n",
       "    </tr>\n",
       "  </thead>\n",
       "  <tbody>\n",
       "    <tr>\n",
       "      <th>0</th>\n",
       "      <td>0</td>\n",
       "      <td>&lt;p&gt;консультирование клиентов по телефону. прод...</td>\n",
       "      <td>Специалист</td>\n",
       "    </tr>\n",
       "    <tr>\n",
       "      <th>1</th>\n",
       "      <td>1</td>\n",
       "      <td>&lt;p&gt;&lt;strong&gt;✑&lt;/strong&gt;&lt;strong&gt;фриланс&lt;/strong&gt;&lt;...</td>\n",
       "      <td>Лаборант</td>\n",
       "    </tr>\n",
       "    <tr>\n",
       "      <th>2</th>\n",
       "      <td>3</td>\n",
       "      <td>&lt;p&gt;работа с клиентами, оформление договоров&lt;/p&gt;</td>\n",
       "      <td>Специалист, администратор, бухгалтер, экономист</td>\n",
       "    </tr>\n",
       "    <tr>\n",
       "      <th>3</th>\n",
       "      <td>4</td>\n",
       "      <td>&lt;p&gt;обслуживание физических лиц, активное привл...</td>\n",
       "      <td>Специалист</td>\n",
       "    </tr>\n",
       "    <tr>\n",
       "      <th>4</th>\n",
       "      <td>5</td>\n",
       "      <td>&lt;p&gt;проведение обучающих и оздоровительных заня...</td>\n",
       "      <td>Инструктор по плаванию</td>\n",
       "    </tr>\n",
       "    <tr>\n",
       "      <th>...</th>\n",
       "      <td>...</td>\n",
       "      <td>...</td>\n",
       "      <td>...</td>\n",
       "    </tr>\n",
       "    <tr>\n",
       "      <th>240417</th>\n",
       "      <td>437519</td>\n",
       "      <td>&lt;p&gt;стрижки, прически, окрашивание.&lt;/p&gt;</td>\n",
       "      <td>Главный специалист государственной или муницип...</td>\n",
       "    </tr>\n",
       "    <tr>\n",
       "      <th>240418</th>\n",
       "      <td>437521</td>\n",
       "      <td>&lt;p&gt;скупка электроники, продажа, конструкция кл...</td>\n",
       "      <td>Продавец консультант.</td>\n",
       "    </tr>\n",
       "    <tr>\n",
       "      <th>240419</th>\n",
       "      <td>437522</td>\n",
       "      <td>&lt;p&gt;пожаротушение, осушествление противопожарно...</td>\n",
       "      <td>менеджер</td>\n",
       "    </tr>\n",
       "    <tr>\n",
       "      <th>240420</th>\n",
       "      <td>437524</td>\n",
       "      <td>&lt;p&gt;разработка документации, в соотвествии с тр...</td>\n",
       "      <td>инженер</td>\n",
       "    </tr>\n",
       "    <tr>\n",
       "      <th>240421</th>\n",
       "      <td>437525</td>\n",
       "      <td>&lt;p&gt;логистика: доставка и перенос ценностей(юве...</td>\n",
       "      <td>Курьер</td>\n",
       "    </tr>\n",
       "  </tbody>\n",
       "</table>\n",
       "<p>240422 rows × 3 columns</p>\n",
       "</div>"
      ],
      "text/plain": [
       "            id                                         resp_lower  \\\n",
       "0            0  <p>консультирование клиентов по телефону. прод...   \n",
       "1            1  <p><strong>✑</strong><strong>фриланс</strong><...   \n",
       "2            3    <p>работа с клиентами, оформление договоров</p>   \n",
       "3            4  <p>обслуживание физических лиц, активное привл...   \n",
       "4            5  <p>проведение обучающих и оздоровительных заня...   \n",
       "...        ...                                                ...   \n",
       "240417  437519             <p>стрижки, прически, окрашивание.</p>   \n",
       "240418  437521  <p>скупка электроники, продажа, конструкция кл...   \n",
       "240419  437522  <p>пожаротушение, осушествление противопожарно...   \n",
       "240420  437524  <p>разработка документации, в соотвествии с тр...   \n",
       "240421  437525  <p>логистика: доставка и перенос ценностей(юве...   \n",
       "\n",
       "                                                 position  \n",
       "0                                              Специалист  \n",
       "1                                                Лаборант  \n",
       "2         Специалист, администратор, бухгалтер, экономист  \n",
       "3                                              Специалист  \n",
       "4                                  Инструктор по плаванию  \n",
       "...                                                   ...  \n",
       "240417  Главный специалист государственной или муницип...  \n",
       "240418                              Продавец консультант.  \n",
       "240419                                           менеджер  \n",
       "240420                                            инженер  \n",
       "240421                                             Курьер  \n",
       "\n",
       "[240422 rows x 3 columns]"
      ]
     },
     "execution_count": 100,
     "metadata": {},
     "output_type": "execute_result"
    }
   ],
   "source": [
    "pd.merge(empl[['id','resp_lower']], train[['id', 'position']])"
   ]
  },
  {
   "cell_type": "code",
   "execution_count": null,
   "metadata": {},
   "outputs": [],
   "source": []
  },
  {
   "cell_type": "code",
   "execution_count": null,
   "metadata": {},
   "outputs": [],
   "source": []
  },
  {
   "cell_type": "code",
   "execution_count": null,
   "metadata": {},
   "outputs": [],
   "source": []
  },
  {
   "cell_type": "code",
   "execution_count": null,
   "metadata": {},
   "outputs": [],
   "source": []
  },
  {
   "cell_type": "code",
   "execution_count": null,
   "metadata": {},
   "outputs": [],
   "source": []
  },
  {
   "cell_type": "code",
   "execution_count": null,
   "metadata": {},
   "outputs": [],
   "source": []
  },
  {
   "cell_type": "code",
   "execution_count": null,
   "metadata": {},
   "outputs": [],
   "source": []
  },
  {
   "cell_type": "code",
   "execution_count": null,
   "metadata": {},
   "outputs": [],
   "source": []
  },
  {
   "cell_type": "code",
   "execution_count": null,
   "metadata": {},
   "outputs": [],
   "source": []
  },
  {
   "cell_type": "code",
   "execution_count": null,
   "metadata": {},
   "outputs": [],
   "source": []
  },
  {
   "cell_type": "code",
   "execution_count": null,
   "metadata": {},
   "outputs": [],
   "source": []
  }
 ],
 "metadata": {
  "kernelspec": {
   "display_name": "Python 3",
   "language": "python",
   "name": "python3"
  },
  "language_info": {
   "codemirror_mode": {
    "name": "ipython",
    "version": 3
   },
   "file_extension": ".py",
   "mimetype": "text/x-python",
   "name": "python",
   "nbconvert_exporter": "python",
   "pygments_lexer": "ipython3",
   "version": "3.7.9"
  }
 },
 "nbformat": 4,
 "nbformat_minor": 4
}
