{
  "nbformat": 4,
  "nbformat_minor": 0,
  "metadata": {
    "kernelspec": {
      "display_name": "Python 3",
      "language": "python",
      "name": "python3"
    },
    "language_info": {
      "codemirror_mode": {
        "name": "ipython",
        "version": 3
      },
      "file_extension": ".py",
      "mimetype": "text/x-python",
      "name": "python",
      "nbconvert_exporter": "python",
      "pygments_lexer": "ipython3",
      "version": "3.6.7"
    },
    "colab": {
      "name": "Pandemic.ipynb",
      "provenance": []
    }
  },
  "cells": [
    {
      "cell_type": "code",
      "metadata": {
        "id": "WNG6XZHS-eRm"
      },
      "source": [
        "import numpy\n",
        "import pandas as pd\n",
        "from functools import reduce\n",
        "from datetime import datetime\n",
        "import datetime\n",
        "import datetime\n",
        "today_dt = pd.to_datetime('20.12.2020', format='%d.%m.%Y')"
      ],
      "execution_count": null,
      "outputs": []
    },
    {
      "cell_type": "code",
      "metadata": {
        "id": "hAbn6hMm-eRu"
      },
      "source": [
        "\n",
        "# Основная выборка, разбитая на train и test\n",
        "\n",
        "train = pd.read_csv('Public/train.csv', sep=';')\n",
        "test = pd.read_csv('Public/test.csv', sep=';')\n",
        "\n",
        "# Дополнительные данные \n",
        "\n",
        "ed = pd.read_csv('Public/education.csv', sep=';')\n",
        "ws = pd.read_csv('Public/worldskills.csv', sep=';')\n",
        "em = pd.read_csv('Public/employements.csv', sep=';')\n",
        "em_multi = pd.read_csv('Public/employements_mult.csv', sep=';')\n",
        "ed_multi = pd.read_csv('Public/education_mult.csv', sep=';')\n",
        "\n",
        "\n",
        "train = train.merge(ed, left_on='id', right_on='id', how = 'left')\n",
        "train = train.merge(em, left_on='id', right_on='id', how = 'left')\n",
        "#train = train.merge(ws, left_on='id', right_on='id')"
      ],
      "execution_count": null,
      "outputs": []
    },
    {
      "cell_type": "code",
      "metadata": {
        "id": "gUQqfMi4-eRv"
      },
      "source": [
        "# количество дней на каждом месте\n",
        "em_multi['start_date'] = em_multi['start_date'].fillna(value = today_dt)\n",
        "em_multi['start_date'] = pd.to_datetime(em_multi['start_date'], format='%Y-%m-%d', errors = 'coerce')\n",
        "\n",
        "em_multi['finish_date'] = em_multi['finish_date'].fillna(value = today_dt)\n",
        "em_multi['finish_date'] = pd.to_datetime(em_multi['finish_date'], format='%Y-%m-%d', errors = 'coerce')\n",
        "em_multi['days_at_th_work'] = em_multi['finish_date'] - em_multi['start_date']\n",
        "em_multi['days_at_th_work'] = em_multi['days_at_th_work'].apply(lambda x: x.days)\n",
        "em_multi['total_work_days'] = em_multi['days_at_th_work']"
      ],
      "execution_count": null,
      "outputs": []
    },
    {
      "cell_type": "code",
      "metadata": {
        "id": "G6dW5ncS-eRw"
      },
      "source": [
        "#агрегируем. Считаем количество мест, среднее количество дней на одном мес те\n",
        "\n",
        "em_multi_1 = em_multi[['id', 'employer']].groupby(['id'], as_index=False).agg('count')\n",
        "em_multi_2 = em_multi[['id', 'days_at_th_work']].groupby(['id'], as_index=False).agg('mean')\n",
        "em_multi_2a = em_multi[['id', 'total_work_days']].groupby(['id'], as_index=False).agg('sum')\n",
        "em_multi_3 = em_multi[['id', 'start_date']].groupby(['id'], as_index=False).agg('min')\n",
        "em_multi_4 = em_multi[['id', 'finish_date']].groupby(['id'], as_index=False).agg('max')\n",
        "em_multi_ls = [em_multi_1, em_multi_2, em_multi_2a, em_multi_3, em_multi_4]\n",
        "    \n",
        "#объединяем все нагрегированные датасеты в один большой\n",
        "em_multi_gr = reduce(lambda  left,right: pd.merge(left,right,on=['id'], how='right'), em_multi_ls)\n",
        "em_multi_gr = em_multi_gr.rename(columns = {'employer': 'emp_count', 'finish_date' : 'total_finish_date', 'start_date' :  'total_start_date'})\n",
        "\n",
        "#могли быть перерывы между работами\n",
        "#em_multi_gr['total_work_days'] = em_multi_gr['total_finish_date'] - em_multi_gr['total_start_date']\n",
        "#em_multi_gr['total_work_days'] = em_multi_gr['total_work_days'].apply(lambda x: x.days)"
      ],
      "execution_count": null,
      "outputs": []
    },
    {
      "cell_type": "code",
      "metadata": {
        "id": "mvB-Y1Rx-eRx"
      },
      "source": [
        "train = train.merge(em_multi_gr, left_on='id', right_on='id', how='left')\n",
        "test = test.merge(em_multi_gr, left_on='id', right_on='id', how='left')"
      ],
      "execution_count": null,
      "outputs": []
    },
    {
      "cell_type": "code",
      "metadata": {
        "id": "3sgUrH7w-eRz"
      },
      "source": [
        "#Образование .сколько, какое, москва ли?\n",
        "ed_multi['institution'] = ed_multi['institution'].fillna(value=\"\")\n",
        "ed_multi['institution'] = ed_multi['institution'].apply(lambda x: str(x).lower())\n",
        "ed_multi['high_ed'] = ed_multi['institution'].apply(lambda x: 1 if (('универ' in x) or ('академ' in x) or ('инстит' in x) or \n",
        "                                                              ('высш' in x) or ('консерв' in x)) else 0)\n",
        "ed_multi['voc_ed'] = ed_multi['institution'].apply(lambda x: 1 if (('учил' in x) or ('техник' in x) or ('колледж' in x) or \n",
        "                                                              ('ссуз' in x) or ('пту' in x)) else 0);\n",
        "ed_multi['postgr_ed'] = ed_multi['institution'].apply(lambda x: 1 if (('аспиран' in x) or ('докторан' in x) or ('интернату' in x)) else 0)\n",
        "ed_multi['Mosc'] = ed_multi['institution'].apply(lambda x: 1 if ('моск' in x) else 0 )\n",
        "ed_multi_gr = ed_multi[['id', 'high_ed', 'voc_ed', 'postgr_ed', 'Mosc']].groupby(['id'], as_index=False).agg('sum')\n",
        "\n"
      ],
      "execution_count": null,
      "outputs": []
    },
    {
      "cell_type": "code",
      "metadata": {
        "id": "CGZCuD8W-eR1"
      },
      "source": [
        "train = train.merge(ed_multi_gr, left_on='id', right_on='id', how='left')\n",
        "test = test.merge(ed_multi_gr, left_on='id', right_on='id', how='left')"
      ],
      "execution_count": null,
      "outputs": []
    },
    {
      "cell_type": "code",
      "metadata": {
        "id": "Ai_e19lC-eR2"
      },
      "source": [
        "def CrDt(data):\n",
        "#for date\n",
        "    data['creation_date'] = pd.to_datetime(data['creation_date'], format='%Y-%m-%d')\n",
        "    data['create_year'] = pd.DatetimeIndex(data['creation_date']).year\n",
        "    data[\"create_month\"]= pd.DatetimeIndex(data[\"creation_date\"]).month\n",
        "    data[\"create_day\"] = pd.DatetimeIndex(data[\"creation_date\"]).day\n",
        "    data[\"create_dt_half_m\"] =  data[\"create_day\"].apply(lambda x : 2 if (x > 15) else 1)    \n",
        "\n",
        "\n",
        "    data['modification_date'] = pd.to_datetime(data['modification_date'], format='%Y-%m-%d')\n",
        "    data['modification_year'] = pd.DatetimeIndex(data['modification_date']).year\n",
        "    data[\"modification_month\"]= pd.DatetimeIndex(data[\"modification_date\"]).month\n",
        "    data[\"modification_day\"] = pd.DatetimeIndex(data[\"modification_date\"]).day\n",
        "    data[\"modification_dt_half_m\"] =  data[\"create_day\"].apply(lambda x : 2 if (x > 15) else 1)\n",
        "\n",
        "\n",
        "    data['publish_date'] = pd.to_datetime(data['publish_date'], format='%Y-%m-%d')\n",
        "    data['publish_year'] = pd.DatetimeIndex(data['publish_date']).year\n",
        "    data[\"publish_month\"]= pd.DatetimeIndex(data[\"publish_date\"]).month\n",
        "    data[\"publish_day\"] = pd.DatetimeIndex(data[\"publish_date\"]).day\n",
        "    data[\"publish_dt_half_m\"] =  train[\"publish_day\"].apply(lambda x : 2 if (x > 15) else 1)    \n",
        "\n",
        "    data['creation_date'] = pd.to_datetime(data['creation_date'], format='%Y-%m-%d')\n",
        "    data['create_year'] = pd.DatetimeIndex(data['creation_date']).year\n",
        "\n",
        "    return data\n",
        "\n"
      ],
      "execution_count": null,
      "outputs": []
    },
    {
      "cell_type": "code",
      "metadata": {
        "id": "2l6TY4EI-eR3"
      },
      "source": [
        "train = CrDt(train)\n",
        "test = CrDt(test)"
      ],
      "execution_count": null,
      "outputs": []
    },
    {
      "cell_type": "code",
      "metadata": {
        "id": "bU9-quQw-eR7"
      },
      "source": [
        "def bin(data):\n",
        "    data['gender'] = data['gender'].fillna('Женский')\n",
        "    data['gender'] = data['gender'].apply(lambda x: 0 if x =='Женский' else 1)\n",
        "\n",
        "    data['relocation_ready'] = data['relocation_ready'].fillna(False)\n",
        "    data['relocation_ready'] = data['relocation_ready'].astype(int)\n",
        "\n",
        "    data['retraining_ready'] = data['retraining_ready'].fillna(True)\n",
        "    data['retraining_ready'] = data['retraining_ready'].astype(int)\n",
        "\n",
        "    data['travel_ready'] = data['travel_ready'].fillna(-1)\n",
        "    data['travel_ready'] = data['travel_ready'].astype(int)\n",
        "    return data"
      ],
      "execution_count": null,
      "outputs": []
    },
    {
      "cell_type": "code",
      "metadata": {
        "id": "FH8vKcOU-eR8"
      },
      "source": [
        "train = bin(train)\n",
        "test = bin(test)"
      ],
      "execution_count": null,
      "outputs": []
    },
    {
      "cell_type": "code",
      "metadata": {
        "id": "gTzG570W-eR8"
      },
      "source": [
        "def coronavir_stat(data):\n",
        "    data = data[['id','creation_date','modification_date','publish_date']].copy()\n",
        "    data['creation_date'] = pd.to_datetime(data['creation_date'])\n",
        "    data['modification_date'] = pd.to_datetime(data['modification_date'])\n",
        "    data['publish_date'] = pd.to_datetime(data['publish_date'])\n",
        "    cs = pd.read_csv('coronavir_stat.csv')\n",
        "    cs['Дата'] = pd.to_datetime(cs['Дата'])\n",
        "\n",
        "    data = data.merge(cs, left_on='creation_date', right_on='Дата',how='left')\n",
        "    data.rename(columns = {'Заражений':'zaraz_creation_date',\n",
        "                           'Смертей': 'death_creation_date',\n",
        "                           'Выздоровлений':'vizd_creation_date',\n",
        "                           'Заражено на дату':'zaraz_on_creation_date'},inplace=True)\n",
        "    data.drop('Дата',axis=1,inplace=True)\n",
        "\n",
        "    data = data.merge(cs, left_on='modification_date', right_on='Дата',how='left')\n",
        "    data.rename(columns = {'Заражений':'zaraz_modification_date',\n",
        "                           'Смертей': 'death_modification_date',\n",
        "                           'Выздоровлений':'vizd_modification_date',\n",
        "                           'Заражено на дату':'zaraz_on_modification_date'},inplace=True)\n",
        "    data.drop('Дата',axis=1,inplace=True)\n",
        "\n",
        "    data = data.merge(cs, left_on='publish_date', right_on='Дата',how='left')\n",
        "    data.rename(columns = {'Заражений':'zaraz_publish_date',\n",
        "                           'Смертей': 'death_publish_date',\n",
        "                           'Выздоровлений':'vizd_publish_date',\n",
        "                           'Заражено на дату':'zaraz_on_publish_date'},inplace=True)\n",
        "    data.drop('Дата',axis=1,inplace=True)\n",
        "\n",
        "    data.drop(['creation_date','modification_date','publish_date'],axis=1,inplace=True)\n",
        "    data = data.fillna(0)\n",
        "    return data"
      ],
      "execution_count": null,
      "outputs": []
    },
    {
      "cell_type": "code",
      "metadata": {
        "id": "BmmHqGmA-eR8"
      },
      "source": [
        "data_cs = coronavir_stat(train)\n",
        "data_test_cs = coronavir_stat(test)"
      ],
      "execution_count": null,
      "outputs": []
    },
    {
      "cell_type": "code",
      "metadata": {
        "id": "xPXE6SCy-eR8"
      },
      "source": [
        "train = train.merge(data_cs, left_on='id', right_on='id', how='left')\n",
        "test = test.merge(data_test_cs, left_on='id', right_on='id', how='left')"
      ],
      "execution_count": null,
      "outputs": []
    },
    {
      "cell_type": "code",
      "metadata": {
        "id": "_oqkwyiB-eSE"
      },
      "source": [
        "\n",
        "\n",
        "\n",
        "train['creation_date'] = pd.to_datetime(train['creation_date'], format='%Y-%m-%d')\n",
        "train['modification_date'] = pd.to_datetime(train['modification_date'], format='%Y-%m-%d')\n",
        "today_dt = pd.to_datetime('20.12.2020', format='%d.%m.%Y')\n",
        "train['start_date'] = train['start_date'].fillna(value = today_dt)\n",
        "train['start_date'] = pd.to_datetime(train['start_date'], format='%Y-%m-%d', errors = 'coerce')\n",
        "train['start_year'] = pd.DatetimeIndex(train['start_date']).year\n",
        "train[\"start_month\"]= pd.DatetimeIndex(train[\"start_date\"]).month\n",
        "train[\"start_day\"] = pd.DatetimeIndex(train[\"start_date\"]).day\n",
        "train[\"start_dt_half_m\"] =  train[\"start_day\"].apply(lambda x : 2 if (x > 15) else 1)\n",
        "train[\"start_quarter\"] =  train[\"start_month\"].apply(lambda x : x // 4);\n",
        "\n",
        "train['finish_date'] = train['finish_date'].fillna(value = today_dt)\n",
        "train['finish_date'] = pd.to_datetime(train['finish_date'], format='%Y-%m-%d',  errors = 'coerce')\n",
        "train['finish_year'] = pd.DatetimeIndex(train['finish_date']).year\n",
        "train[\"finish_month\"]= pd.DatetimeIndex(train[\"finish_date\"]).month\n",
        "train[\"finish_day\"] = pd.DatetimeIndex(train[\"finish_date\"]).day\n",
        "train[\"finish_dt_half_m\"] =  train[\"finish_day\"].apply(lambda x : 2 if (x > 15) else 1)\n",
        "train[\"finish_quarter\"] =  train[\"finish_month\"].apply(lambda x : x // 4);\n",
        "\n",
        "lockdown_dt = pd.to_datetime('27.03.2020', format='%d.%m.%Y')\n",
        "delta = datetime.timedelta(seconds=1)\n",
        "train['days_bt_lockdown_cr'] =  train['creation_date'].apply(lambda x:max(x - lockdown_dt,  delta).days)\n",
        "train['days_bt_lockdown_mod'] =  train['modification_date'].apply(lambda x:max(x - lockdown_dt,  delta).days)\n",
        "train['days_at_last_work'] = (train['finish_date'] - train['start_date'])\n",
        "train['days_at_last_work'] = train['days_at_last_work'].apply(lambda x: x.days)"
      ],
      "execution_count": null,
      "outputs": []
    },
    {
      "cell_type": "code",
      "metadata": {
        "id": "CqP6TslJ-eSF"
      },
      "source": [
        "train['graduate_age'] = train['graduation_year'] - (pd.DatetimeIndex(train['modification_date']).year - train['age'])\n",
        "\n",
        "train['start_date'] = train['start_date'].fillna(value = today_dt)\n",
        "train['start_date'] = pd.to_datetime(train['start_date'], format='%Y-%m-%d', errors = 'coerce')\n",
        "train['finish_date'] = train['finish_date'].fillna(value = today_dt)\n",
        "train['finish_date'] = pd.to_datetime(train['finish_date'], format='%Y-%m-%d',  errors = 'coerce')\n",
        "train['finish_winter'] = train['finish_date'].apply(lambda x: 1 if ((x.month < 3) or (x.month == 12)) else 0)\n",
        "train['finish_spring'] = train['finish_date'].apply(lambda x: 1 if ((x.month > 2) and (x.month < 6)) else 0)\n",
        "train['finish_summer'] = train['finish_date'].apply(lambda x: 1 if ((x.month > 5) and (x.month < 9)) else 0)\n",
        "train['finish_autumn'] = train['finish_date'].apply(lambda x: 1 if ((x.month > 8) and (x.month < 12)) else 0)\n",
        "\n",
        "train['start_winter'] = train['start_date'].apply(lambda x: 1 if ((x.month < 3) or (x.month == 12)) else 0)\n",
        "train['start_spring'] = train['start_date'].apply(lambda x: 1 if ((x.month > 2) and (x.month < 6)) else 0)\n",
        "train['start_summer'] = train['start_date'].apply(lambda x: 1 if ((x.month > 5) and (x.month < 9)) else 0)\n",
        "train['start_autumn'] = train['start_date'].apply(lambda x: 1 if ((x.month > 8) and (x.month < 12)) else 0)"
      ],
      "execution_count": null,
      "outputs": []
    },
    {
      "cell_type": "code",
      "metadata": {
        "id": "IwPjbOBS-eSF"
      },
      "source": [
        "train.to_csv('train_v14.csv', sep = ',', index = False)\r\n",
        "test.to_csv('test_v14.csv', sep = ',', index = False)"
      ],
      "execution_count": null,
      "outputs": []
    }
  ]
}