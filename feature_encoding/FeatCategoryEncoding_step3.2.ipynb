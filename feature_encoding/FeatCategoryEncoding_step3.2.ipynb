{
 "cells": [
  {
   "cell_type": "code",
   "execution_count": 1,
   "metadata": {},
   "outputs": [],
   "source": [
    "import pandas as pd\n",
    "import numpy as np\n",
    "\n",
    "from sklearn.model_selection import train_test_split\n",
    "from sklearn.linear_model import LinearRegression,Lasso,Ridge\n",
    "from sklearn.tree import DecisionTreeRegressor\n",
    "from sklearn.metrics import mean_squared_log_error, mean_absolute_error\n",
    "\n",
    "from sklearn.preprocessing import OneHotEncoder\n",
    "\n",
    "from sklearn.model_selection import KFold\n",
    "from sklearn.preprocessing import MinMaxScaler\n",
    "\n",
    "from xgboost import XGBRegressor\n",
    "import seaborn as sns\n",
    "import matplotlib.pyplot as plt\n",
    "%matplotlib inline"
   ]
  },
  {
   "cell_type": "code",
   "execution_count": 2,
   "metadata": {},
   "outputs": [
    {
     "name": "stderr",
     "output_type": "stream",
     "text": [
      "C:\\Users\\SafiullinaEA\\Anaconda3\\lib\\site-packages\\IPython\\core\\interactiveshell.py:3071: DtypeWarning: Columns (18) have mixed types.Specify dtype option on import or set low_memory=False.\n",
      "  has_raised = await self.run_ast_nodes(code_ast.body, cell_name,\n"
     ]
    }
   ],
   "source": [
    "\n",
    "data_in = pd.read_csv('data/test.csv', delimiter=';')\n",
    "data_int = pd.read_csv('data/train.csv', delimiter=';')\n",
    "data = pd.concat([data_in, data_int])\n",
    "\n",
    "data['position'].nunique()\n",
    "\n",
    "data['pos1'] = data['position'].apply(lambda x: x.split(',')[0].lower())\n",
    "\n",
    "data['pos1'].nunique()\n",
    "\n",
    "data['pos2'] = data['position'].apply(lambda x: x.split(',')[1].lower() if len(x.split(','))>1 else 'None')\n",
    "\n",
    "data['pos3'] = data['position'].apply(lambda x: x.split(',')[2].lower() if len(x.split(','))>2 else 'None')\n",
    "\n",
    "data = data[['id','pos1','pos2','pos3','salary_desired']].copy()\n",
    "\n",
    "lst = ['специалист', 'not_top50', 'продавец', 'слесарь', 'юрист', 'повар',\n",
    "       'механик', 'медсестра', 'рабочий', 'бухгалтер', 'менеджер',\n",
    "       'водитель', 'строитель', 'дизайнер', 'управляющий', 'охранник',\n",
    "       'инженер', 'мастер', 'аналитик', 'монтажник', 'кассир', 'машинист',\n",
    "       'электромонтер', 'экономист', 'секретарь', 'администратор',\n",
    "       'воспитатель', 'кладовщик', 'начальник', 'оператор пк',\n",
    "       'соцработник', 'нефтяник', 'врач', 'ведущий специалист', 'любая',\n",
    "       'программист', 'уборщица', 'госслужащий', 'психолог', 'швея',\n",
    "       'офис-менеджер', 'кадровик', 'торговый представитель', 'техник',\n",
    "       'менеджер по работе с клиентами', 'электрогазосварщик',\n",
    "       'диспетчер', 'оператор', 'парикмахер', 'бригадир',\n",
    "       'помощник руководителя']\n",
    "\n",
    "def lstadd(x):\n",
    "    for l in lst:\n",
    "        if l in x:\n",
    "            return l\n",
    "    return 'not_top50'\n",
    "\n",
    "res2 = data.groupby('pos1')['salary_desired'].mean().to_dict()\n",
    "res4 = data.groupby('pos2')['salary_desired'].mean().to_dict()\n",
    "res6 = data.groupby('pos3')['salary_desired'].mean().to_dict()\n",
    "\n",
    "# data['pos1_salary'] = data['pos1'].apply(lambda x: res1[x])\n",
    "data['pos1_salary_desired'] = data['pos1'].apply(lambda x: res2[x])\n",
    "# data['pos2_salary'] = data['pos2'].apply(lambda x: res3[x])\n",
    "data['pos2_salary_desired'] = data['pos2'].apply(lambda x: res4[x])\n",
    "# data['pos3_salary'] = data['pos3'].apply(lambda x: res5[x])\n",
    "data['pos3_salary_desired'] = data['pos3'].apply(lambda x: res6[x])\n",
    "\n",
    "data['pos1'] = data['pos1'].apply(lambda x: lstadd(x))\n",
    "data['pos2'] = data['pos2'].apply(lambda x: lstadd(x))\n",
    "data['pos3'] = data['pos3'].apply(lambda x: lstadd(x))\n",
    "\n",
    "from sklearn.preprocessing import OneHotEncoder\n",
    "\n",
    "ohe = OneHotEncoder()\n",
    "ohe.fit(data['pos1'].values.reshape(-1, 1))\n",
    "pos1_ohe = pd.DataFrame(ohe.transform(data['pos1'].values.reshape(-1, 1)).toarray())\n",
    "pos1_ohe.columns = ohe.get_feature_names(['pos1'])\n",
    "\n",
    "ohe = OneHotEncoder()\n",
    "ohe.fit(data['pos2'].values.reshape(-1, 1))\n",
    "pos2_ohe = pd.DataFrame(ohe.transform(data['pos2'].values.reshape(-1, 1)).toarray())\n",
    "pos2_ohe.columns = ohe.get_feature_names(['pos2'])\n",
    "\n",
    "ohe = OneHotEncoder()\n",
    "ohe.fit(data['pos3'].values.reshape(-1, 1))\n",
    "pos3_ohe = pd.DataFrame(ohe.transform(data['pos3'].values.reshape(-1, 1)).toarray())\n",
    "pos3_ohe.columns = ohe.get_feature_names(['pos3'])\n",
    "\n",
    "pos_ohe = pd.merge(pos1_ohe,pos2_ohe,left_index=True,right_index=True)\n",
    "pos_ohe = pos_ohe.merge(pos3_ohe,left_index=True,right_index=True)\n",
    "\n",
    "data.drop(['pos1','pos2','pos3','salary_desired'],axis=1,inplace=True)\n",
    "data = data.merge(pos_ohe,left_index=True,right_index=True)\n",
    "\n",
    "data.to_csv('mean_salary_by_poss_test.csv',index=False)"
   ]
  },
  {
   "cell_type": "code",
   "execution_count": null,
   "metadata": {},
   "outputs": [],
   "source": []
  }
 ],
 "metadata": {
  "kernelspec": {
   "display_name": "Python 3",
   "language": "python",
   "name": "python3"
  },
  "language_info": {
   "codemirror_mode": {
    "name": "ipython",
    "version": 3
   },
   "file_extension": ".py",
   "mimetype": "text/x-python",
   "name": "python",
   "nbconvert_exporter": "python",
   "pygments_lexer": "ipython3",
   "version": "3.8.3"
  }
 },
 "nbformat": 4,
 "nbformat_minor": 4
}
