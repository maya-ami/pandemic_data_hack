{
  "nbformat": 4,
  "nbformat_minor": 0,
  "metadata": {
    "colab": {
      "name": "FeatCategoryEncoding.ipynb",
      "provenance": [],
      "collapsed_sections": []
    },
    "kernelspec": {
      "name": "python3",
      "display_name": "Python 3"
    }
  },
  "cells": [
    {
      "cell_type": "code",
      "metadata": {
        "id": "Q2Oe4VZjtZ4c"
      },
      "source": [
        "#Образование\r\n",
        "ed_dict = {'Среднее профессиональное' : 0, 'Неоконченное высшее' : 1, 'Незаконченное высшее': 1, 'Среднее' : 2, 'Высшее' : 3}\r\n",
        "train['education_type_le'] = train['education_type'].replace(ed_dict)\r\n",
        "test['education_type_le'] = test['education_type'].replace(ed_dict)\r\n"
      ],
      "execution_count": null,
      "outputs": []
    },
    {
      "cell_type": "code",
      "metadata": {
        "id": "UtgWii5_tOO2"
      },
      "source": [
        "import numpy\r\n",
        "import pandas as pd\r\n",
        "from functools import reduce\r\n",
        "from datetime import datetime\r\n",
        "import datetime\r\n",
        "import datetime\r\n",
        "today_dt = pd.to_datetime('20.12.2020', format='%d.%m.%Y')\r\n",
        "train = pd.read_csv('Public/train.csv', sep=';')\r\n",
        "test = pd.read_csv('Public/test.csv', sep=';')"
      ],
      "execution_count": null,
      "outputs": []
    },
    {
      "cell_type": "code",
      "metadata": {
        "id": "8oEutXnXtfl9"
      },
      "source": [
        "#Категория водительских прав\r\n",
        "def DriveLic(data):\r\n",
        "    data['drive_licences_str'] = data['drive_licences'].str.replace(\" \", \"\")\r\n",
        "    data['drive_licences_A'] = data['drive_licences_str'].apply(lambda x: 1 if ('A' in str(x)) else 0);                                                              \r\n",
        "    data['drive_licences_B'] = data['drive_licences_str'].apply(lambda x: 1 if ('B' in str(x)) else 0);                                                              \r\n",
        "    data['drive_licences_C'] = data['drive_licences_str'].apply(lambda x: 1 if ('C' in str(x)) else 0);                                                              \r\n",
        "    data['drive_licences_D'] = data['drive_licences_str'].apply(lambda x: 1 if ('D' in str(x)) else 0);                                                                                                                            \r\n",
        "    data['drive_licences_E'] = data['drive_licences_str'].apply(lambda x: 1 if ('E' in str(x)) else 0);\r\n",
        "    return data"
      ],
      "execution_count": null,
      "outputs": []
    },
    {
      "cell_type": "code",
      "metadata": {
        "id": "H6girt1Qutj4"
      },
      "source": [
        "train = DriveLic(train)\r\n",
        "test = DriveLic(test)"
      ],
      "execution_count": null,
      "outputs": []
    },
    {
      "cell_type": "code",
      "metadata": {
        "id": "Mx9GK2yStfnO"
      },
      "source": [
        "# Гражданство\r\n",
        "# отсортировано по ВВП на деше населения\r\n",
        "citiz_dict = {'Российская Федерация' : 12,'Республика Казахстан' : 11,  'Республика Беларусь' : 10, 'Туркменистан' : 9, \r\n",
        "'Азербайджанская Республика' : 8, 'Республика Армения':7, 'Украина' : 6, 'Республика Молдова' : 5, \r\n",
        "   'Республика Узбекистан' : 4, 'Кыргызская Республика' : 3, 'Республика Таджикистан' : 2, 'Иное' : 1 }\r\n",
        "train['citizenship_le'] = train['citizenship'].replace(citiz_dict)\r\n",
        "test['citizenship_le'] = test['citizenship'].replace(citiz_dict)"
      ],
      "execution_count": null,
      "outputs": []
    },
    {
      "cell_type": "code",
      "metadata": {
        "id": "7RzqXZQ8tqdZ"
      },
      "source": [
        "# График работы\r\n",
        "def shed(data):\r\n",
        "    data['schedule_full_time'] = data['schedule'].apply(lambda x: 1 if ('Полный рабочий день' in str(x)) else 0);                                                              \r\n",
        "    data['schedule_part_time'] = data['schedule'].apply(lambda x: 1 if ('Неполный рабочий день' in str(x)) else 0);                                                              \r\n",
        "    data['schedule_flex'] = data['schedule'].apply(lambda x: 1 if ('Гибкий график' in str(x)) else 0);                                                              \r\n",
        "    data['schedule_shift'] = data['schedule'].apply(lambda x: 1 if ('Сменный график' in str(x)) else 0);                                                                                                                            \r\n",
        "    data['schedule_big_shift'] = data['schedule'].apply(lambda x: 1 if ('Вахтовый метод' in str(x)) else 0);                                                                                                                        \r\n",
        "    data['schedule_irregular'] = data['schedule'].apply(lambda x: 1 if ('Ненормированный рабочий день' in str(x)) else 0);\r\n",
        "    return data"
      ],
      "execution_count": null,
      "outputs": []
    },
    {
      "cell_type": "code",
      "metadata": {
        "id": "4ncZp3wNuySw"
      },
      "source": [
        "train = shed(train)\r\n",
        "test = shed(test)"
      ],
      "execution_count": null,
      "outputs": []
    },
    {
      "cell_type": "code",
      "metadata": {
        "id": "GKlHWc0CuLUx"
      },
      "source": [
        "# Региона кодируем средней ЗП\r\n",
        "\r\n",
        "real_salary_df = pd.read_csv('OffSal2019_2020_2.csv', header=1)\r\n",
        "real_salary_df['region2'] = real_salary_df['Region'].apply(lambda x: str(x).lower().translate ({ord(c): \"\" for c in \" !@#$%^&*()[]{};:,./<>?\\|`~-=_+\"}))\r\n",
        "train['region1'] = train['region'].apply(lambda x: str(x).lower().translate ({ord(c): \"\" for c in \" !@#$%^&*()[]{};:,./<>?\\|`~-=_+\"}))\r\n",
        "test['region1'] = test['region'].apply(lambda x: str(x).lower().translate ({ord(c): \"\" for c in \" !@#$%^&*()[]{};:,./<>?\\|`~-=_+\"}))\r\n",
        "train = train.merge(real_salary_df, left_on='region1', right_on='region2', how='left' )\r\n",
        "test = test.merge(real_salary_df, left_on='region1', right_on='region2', how='left' )\r\n",
        " \r\n"
      ],
      "execution_count": null,
      "outputs": []
    }
  ]
}