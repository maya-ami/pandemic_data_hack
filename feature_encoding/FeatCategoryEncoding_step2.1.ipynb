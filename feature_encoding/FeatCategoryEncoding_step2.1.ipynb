{
 "cells": [
  {
   "cell_type": "code",
   "execution_count": 1,
   "metadata": {},
   "outputs": [],
   "source": [
    "import pandas as pd"
   ]
  },
  {
   "cell_type": "code",
   "execution_count": 2,
   "metadata": {},
   "outputs": [],
   "source": [
    "data_in = pd.read_csv('data/education.csv', delimiter=';')"
   ]
  },
  {
   "cell_type": "code",
   "execution_count": 3,
   "metadata": {},
   "outputs": [],
   "source": [
    "data_edu = pd.read_csv('unversity_balls.csv')\n",
    "data_edu['university_name'] = data_edu['university_name'].apply(lambda x: x.lower())"
   ]
  },
  {
   "cell_type": "code",
   "execution_count": 4,
   "metadata": {},
   "outputs": [],
   "source": [
    "data_in['institution'] = data_in['institution'].astype(str)"
   ]
  },
  {
   "cell_type": "code",
   "execution_count": 5,
   "metadata": {},
   "outputs": [],
   "source": [
    "data_in['institution'] = data_in['institution'].apply(lambda x: x.replace('\"',''))\n",
    "data_in['institution'] = data_in['institution'].apply(lambda x: x.lower())"
   ]
  },
  {
   "cell_type": "code",
   "execution_count": 6,
   "metadata": {},
   "outputs": [],
   "source": [
    "def clear_university(x):\n",
    "    for val in data_edu['university_name'].unique():\n",
    "        if val in x:\n",
    "            return val\n",
    "    if 'университет' in x:\n",
    "        return 'Не найдено'\n",
    "    else:\n",
    "        return 'Не универ'"
   ]
  },
  {
   "cell_type": "code",
   "execution_count": 7,
   "metadata": {},
   "outputs": [],
   "source": [
    "data_in['clear_univer'] = data_in['institution'].apply(lambda x: clear_university(x))"
   ]
  },
  {
   "cell_type": "code",
   "execution_count": 8,
   "metadata": {},
   "outputs": [
    {
     "data": {
      "text/plain": [
       "Не универ                                                                                                            237764\n",
       "Не найдено                                                                                                            51858\n",
       "технологический университет                                                                                            2581\n",
       "тюменский государственный университет                                                                                  2366\n",
       "санкт-петербургский государственный университет                                                                        2365\n",
       "                                                                                                                      ...  \n",
       "орловский государственный аграрный университет им. н.в. парахина                                                          1\n",
       "московская высшая школа социальных и экономических наук                                                                   1\n",
       "российский государственный университет нефти и газа (национальный исследовательский университет) им. и.м. губкина         1\n",
       "белгородский государственный аграрный университет им. в.я. горина                                                         1\n",
       "воронежский государственный лесотехнический университет им. г.ф. морозова                                                 1\n",
       "Name: clear_univer, Length: 398, dtype: int64"
      ]
     },
     "execution_count": 8,
     "metadata": {},
     "output_type": "execute_result"
    }
   ],
   "source": [
    "data_in['clear_univer'].value_counts()"
   ]
  },
  {
   "cell_type": "code",
   "execution_count": 9,
   "metadata": {},
   "outputs": [],
   "source": [
    "keywords = {'технический':1,\n",
    "            'эконом':2,\n",
    "            'финанс':2,\n",
    "            'банк':2,\n",
    "            'туризм':3,\n",
    "            'медицин':4,\n",
    "            'медик':4,\n",
    "            'фармацевт':4,\n",
    "            'здравоохр':4,\n",
    "            'аграрн':5,\n",
    "            'хозяйств':5,\n",
    "            'педагог':6,\n",
    "            'сельскохоз':5,\n",
    "            'сельхоз':5,\n",
    "            'промышл':7,\n",
    "            'металлург':7,\n",
    "            'горнозавод':7,\n",
    "            'энерг':7,\n",
    "            'транспорт':8,\n",
    "            'путей':8,\n",
    "            'театр':9,\n",
    "            'искусств':9,\n",
    "            'музык':9,\n",
    "            'культур':9,\n",
    "            'военн':10,\n",
    "            'дорожн':8,\n",
    "           'юрид':11,\n",
    "            'юстиц':11,\n",
    "            'законовед':11,\n",
    "            'правосуд':11,\n",
    "           'хим':12,\n",
    "           'лётн':13,\n",
    "           'лётч':13,\n",
    "           'технол':14,\n",
    "           'архитект':15,\n",
    "           'строит':15,\n",
    "            'строй':15,\n",
    "           'нефт':16,\n",
    "           'газ':16,\n",
    "            'геолог':16,\n",
    "           'спорт':17,\n",
    "           'лингв':18,\n",
    "           'гуман':19,\n",
    "           'связ':20,\n",
    "           'радио':20,\n",
    "            'телекоммуник':20,\n",
    "            'электроник':20,\n",
    "            'вычислит':30,\n",
    "            'информатик':30,\n",
    "           'авиац':21,\n",
    "           'аэрокосм':22,\n",
    "           'эколог':23,\n",
    "           'биолог':23,\n",
    "           'электромехан':24,\n",
    "           'православн':25,\n",
    "           'индустр':26,\n",
    "           'предприн':27,\n",
    "           'сервис':28,\n",
    "            'торг':28,\n",
    "            'бизнес':28,\n",
    "            'управл':28,\n",
    "            'питан':28,\n",
    "           'мореход':29,\n",
    "           'морск':29,\n",
    "           'корабл':29,\n",
    "           'геодез':31,\n",
    "           'картограф':31,\n",
    "           'географ':31,\n",
    "           'гидрометеоролог':31,\n",
    "           'социал':32,\n",
    "           'психол':32}\n",
    "def edu_profile(x):\n",
    "    for k,v in keywords.items():\n",
    "        if k in x:\n",
    "            return v\n",
    "    return 0"
   ]
  },
  {
   "cell_type": "code",
   "execution_count": 10,
   "metadata": {
    "scrolled": false
   },
   "outputs": [],
   "source": [
    "data_in['edu_profile'] = data_in['institution'].apply(lambda x: edu_profile(x))"
   ]
  },
  {
   "cell_type": "code",
   "execution_count": 11,
   "metadata": {},
   "outputs": [],
   "source": [
    "# data_in['edu_profile'].value_counts()"
   ]
  },
  {
   "cell_type": "code",
   "execution_count": 12,
   "metadata": {},
   "outputs": [],
   "source": [
    "# for v in data_in[data_in['edu_profile'] == 'none']['institution'].values:\n",
    "#     print(v)"
   ]
  },
  {
   "cell_type": "code",
   "execution_count": 13,
   "metadata": {},
   "outputs": [],
   "source": [
    "data_edu.drop('Unnamed: 0',axis=1,inplace=True)"
   ]
  },
  {
   "cell_type": "code",
   "execution_count": 14,
   "metadata": {},
   "outputs": [],
   "source": [
    "data_in = data_in.merge(data_edu,left_on='clear_univer', right_on='university_name',how='left')"
   ]
  },
  {
   "cell_type": "code",
   "execution_count": 15,
   "metadata": {},
   "outputs": [
    {
     "data": {
      "text/plain": [
       "289622"
      ]
     },
     "execution_count": 15,
     "metadata": {},
     "output_type": "execute_result"
    }
   ],
   "source": [
    "data_in['university_name'].isna().sum()"
   ]
  },
  {
   "cell_type": "code",
   "execution_count": 16,
   "metadata": {},
   "outputs": [],
   "source": [
    "def encode_status(x):\n",
    "    if x == 'федеральный университет':\n",
    "        return 1\n",
    "    if x == 'глобальный университет (проект 5-100)':\n",
    "        return 1.2\n",
    "    if x == 'национальный университет':\n",
    "        return 1.4\n",
    "    if x == 'национальный исследовательский университет':\n",
    "        return 1.6\n",
    "    if x == 'федеральный университет, глобальный университет (проект 5-100)':\n",
    "        return 2\n",
    "    if x == 'национальный исследовательский университет, глобальный университет (проект 5-100)':\n",
    "        return 2.4\n",
    "    if x == 'опорный университет':\n",
    "        return 3\n",
    "    return 0"
   ]
  },
  {
   "cell_type": "code",
   "execution_count": 17,
   "metadata": {},
   "outputs": [],
   "source": [
    "data_in['university_status'] = data_in['university_status'].apply(lambda x: encode_status(x))"
   ]
  },
  {
   "cell_type": "code",
   "execution_count": 18,
   "metadata": {},
   "outputs": [],
   "source": [
    "data_in['university_ball'] = data_in['university_ball'].fillna(0)"
   ]
  },
  {
   "cell_type": "code",
   "execution_count": 19,
   "metadata": {},
   "outputs": [],
   "source": [
    "data_in = data_in[['id',\n",
    "                   'graduation_year',\n",
    "                  'edu_profile',\n",
    "                  'university_status',\n",
    "                  'university_ball']]"
   ]
  },
  {
   "cell_type": "code",
   "execution_count": 22,
   "metadata": {},
   "outputs": [
    {
     "data": {
      "text/plain": [
       "(1, 375364)"
      ]
     },
     "execution_count": 22,
     "metadata": {},
     "output_type": "execute_result"
    }
   ],
   "source": [
    "data_in.isna().sum().sum(), len(data_in)"
   ]
  },
  {
   "cell_type": "code",
   "execution_count": 23,
   "metadata": {},
   "outputs": [],
   "source": [
    "data_in.to_csv('univer_base.csv',index=False)"
   ]
  },
  {
   "cell_type": "code",
   "execution_count": null,
   "metadata": {},
   "outputs": [],
   "source": []
  }
 ],
 "metadata": {
  "kernelspec": {
   "display_name": "Python 3",
   "language": "python",
   "name": "python3"
  },
  "language_info": {
   "codemirror_mode": {
    "name": "ipython",
    "version": 3
   },
   "file_extension": ".py",
   "mimetype": "text/x-python",
   "name": "python",
   "nbconvert_exporter": "python",
   "pygments_lexer": "ipython3",
   "version": "3.8.3"
  }
 },
 "nbformat": 4,
 "nbformat_minor": 4
}
