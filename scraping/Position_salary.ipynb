{
 "cells": [
  {
   "cell_type": "code",
   "execution_count": 1,
   "metadata": {},
   "outputs": [],
   "source": [
    "import pandas as pd\n",
    "import numpy as np\n",
    "import requests\n",
    "import os\n",
    "import sys\n",
    "from selenium import webdriver\n",
    "from selenium.webdriver.support.ui import WebDriverWait\n",
    "from selenium.webdriver.common.by import By\n",
    "from selenium.webdriver.support import expected_conditions as EC\n",
    "from selenium.common.exceptions import TimeoutException\n",
    "import time\n",
    "from bs4 import BeautifulSoup\n",
    "pd.set_option('display.max_rows', 1000)"
   ]
  },
  {
   "cell_type": "code",
   "execution_count": 16,
   "metadata": {},
   "outputs": [],
   "source": [
    "driver = webdriver.Firefox(executable_path='geckodriver.exe',firefox_binary=r'C:\\Program Files\\Mozilla Firefox\\firefox.exe')"
   ]
  },
  {
   "cell_type": "code",
   "execution_count": 2,
   "metadata": {},
   "outputs": [],
   "source": [
    "data_in = pd.read_csv('train_v10.csv')"
   ]
  },
  {
   "cell_type": "code",
   "execution_count": 17,
   "metadata": {},
   "outputs": [],
   "source": [
    "sal_dict = dict()"
   ]
  },
  {
   "cell_type": "code",
   "execution_count": 18,
   "metadata": {},
   "outputs": [],
   "source": [
    "for val in data_in['position'].unique():\n",
    "    if val != 'not_top50':\n",
    "        driver.get('https://ru.indeed.com/career/'+val+'/salaries')\n",
    "        time.sleep(5)\n",
    "        htmlSource = driver.page_source\n",
    "        soup = BeautifulSoup(htmlSource, 'html.parser')\n",
    "        mean_sal = soup.find('span', attrs={'class':'sal-agg-nonbase__average-salary-value'})\n",
    "        if mean_sal:\n",
    "            sal_dict[val] = int(mean_sal.text[:-1].replace(u'\\xa0', u''))"
   ]
  },
  {
   "cell_type": "code",
   "execution_count": 19,
   "metadata": {},
   "outputs": [
    {
     "data": {
      "text/plain": [
       "{'специалист': 23459,\n",
       " 'продавец': 27529,\n",
       " 'слесарь': 37057,\n",
       " 'юрист': 29995,\n",
       " 'повар': 29927,\n",
       " 'механик': 39657,\n",
       " 'медсестра': 23063,\n",
       " 'рабочий': 40406,\n",
       " 'бухгалтер': 25739,\n",
       " 'менеджер': 25683,\n",
       " 'водитель': 52888,\n",
       " 'дизайнер': 36341,\n",
       " 'управляющий': 40644,\n",
       " 'охранник': 36686,\n",
       " 'инженер': 35845,\n",
       " 'мастер': 38044,\n",
       " 'аналитик': 48464,\n",
       " 'монтажник': 57094,\n",
       " 'кассир': 28777,\n",
       " 'электромонтер': 28808,\n",
       " 'экономист': 28043,\n",
       " 'секретарь': 26666,\n",
       " 'администратор': 27933,\n",
       " 'воспитатель': 15279,\n",
       " 'кладовщик': 32897,\n",
       " 'начальник': 40574,\n",
       " 'оператор пк': 25733,\n",
       " 'врач': 32299,\n",
       " 'ведущий специалист': 30232,\n",
       " 'программист': 37923,\n",
       " 'уборщица': 24929,\n",
       " 'психолог': 17225,\n",
       " 'швея': 29434,\n",
       " 'офис-менеджер': 26666,\n",
       " 'торговый представитель': 38736,\n",
       " 'техник': 26936,\n",
       " 'менеджер по работе с клиентами': 29430,\n",
       " 'электрогазосварщик': 54282,\n",
       " 'диспетчер': 26171,\n",
       " 'оператор': 28882,\n",
       " 'парикмахер': 36515,\n",
       " 'помощник руководителя': 29573}"
      ]
     },
     "execution_count": 19,
     "metadata": {},
     "output_type": "execute_result"
    }
   ],
   "source": [
    "sal_dict"
   ]
  },
  {
   "cell_type": "code",
   "execution_count": 20,
   "metadata": {},
   "outputs": [
    {
     "data": {
      "text/plain": [
       "42"
      ]
     },
     "execution_count": 20,
     "metadata": {},
     "output_type": "execute_result"
    }
   ],
   "source": [
    "len(sal_dict)"
   ]
  }
 ],
 "metadata": {
  "kernelspec": {
   "display_name": "Python 3",
   "language": "python",
   "name": "python3"
  },
  "language_info": {
   "codemirror_mode": {
    "name": "ipython",
    "version": 3
   },
   "file_extension": ".py",
   "mimetype": "text/x-python",
   "name": "python",
   "nbconvert_exporter": "python",
   "pygments_lexer": "ipython3",
   "version": "3.8.3"
  }
 },
 "nbformat": 4,
 "nbformat_minor": 4
}
