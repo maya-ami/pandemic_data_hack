{
 "cells": [
  {
   "cell_type": "code",
   "execution_count": 6,
   "metadata": {},
   "outputs": [],
   "source": [
    "import pandas as pd\n",
    "import numpy as np\n",
    "import requests\n",
    "import os\n",
    "import sys\n",
    "# from selenium import webdriver\n",
    "# from selenium.webdriver.support.ui import WebDriverWait\n",
    "# from selenium.webdriver.common.by import By\n",
    "# from selenium.webdriver.support import expected_conditions as EC\n",
    "# from selenium.common.exceptions import TimeoutException\n",
    "import time\n",
    "from bs4 import BeautifulSoup\n",
    "# from selenium.webdriver.common.action_chains import ActionChains\n",
    "# from selenium.webdriver.common.keys import Keys"
   ]
  },
  {
   "cell_type": "code",
   "execution_count": 10,
   "metadata": {},
   "outputs": [],
   "source": [
    "soup = BeautifulSoup(table, 'html.parser')"
   ]
  },
  {
   "cell_type": "code",
   "execution_count": 16,
   "metadata": {},
   "outputs": [],
   "source": [
    "data = []\n",
    "table_class = 'rating-table_table__3Ysdh'\n",
    "trs = soup.find_all(table_class)\n",
    "table = soup.find('table', attrs={'class':table_class})\n",
    "table_body = table.find('tbody')\n",
    "\n",
    "rows = table_body.find_all('tr')\n",
    "for row in rows:\n",
    "    cols = row.find_all(['td','th'])\n",
    "    if len(cols)< 5:\n",
    "        print(cols)\n",
    "    cols = [ele.text.strip() if len(ele) else '' for ele in cols ]\n",
    "    data.append(cols)\n"
   ]
  },
  {
   "cell_type": "code",
   "execution_count": 18,
   "metadata": {},
   "outputs": [],
   "source": [
    "data = pd.DataFrame(data,columns = ['university_name, city',\n",
    "                                    'university_ege_2017',\n",
    "                                    'university_grow_2016_2017',\n",
    "                                    'university_gov_stidents_count',\n",
    "                                    'university_stidents_compet_count',\n",
    "                                    'university_stidents_olimp_count',\n",
    "                                    'university_stidents_quot_count',\n",
    "                                    'university_stidents_target_count',\n",
    "                                    'university_ege_minus_id'])"
   ]
  },
  {
   "cell_type": "code",
   "execution_count": 29,
   "metadata": {},
   "outputs": [],
   "source": [
    "data['university_name'] = data['university_name, city'].apply(lambda x: x.split(', г.')[0])\n",
    "data['university_city'] = data['university_name, city'].apply(lambda x: x.split(', г.')[1] if len(x.split(', г.')) > 1 else 'Не определено')"
   ]
  },
  {
   "cell_type": "code",
   "execution_count": 31,
   "metadata": {},
   "outputs": [],
   "source": [
    "data.to_csv('university_atlas.csv',index=False)"
   ]
  },
  {
   "cell_type": "code",
   "execution_count": null,
   "metadata": {},
   "outputs": [],
   "source": []
  }
 ],
 "metadata": {
  "kernelspec": {
   "display_name": "Python 3",
   "language": "python",
   "name": "python3"
  },
  "language_info": {
   "codemirror_mode": {
    "name": "ipython",
    "version": 3
   },
   "file_extension": ".py",
   "mimetype": "text/x-python",
   "name": "python",
   "nbconvert_exporter": "python",
   "pygments_lexer": "ipython3",
   "version": "3.8.3"
  }
 },
 "nbformat": 4,
 "nbformat_minor": 4
}
